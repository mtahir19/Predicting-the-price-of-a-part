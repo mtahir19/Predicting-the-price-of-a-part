{
 "cells": [
  {
   "cell_type": "markdown",
   "metadata": {},
   "source": [
    "# Project :  Predicts the cost of a part"
   ]
  },
  {
   "cell_type": "markdown",
   "metadata": {},
   "source": [
    "### Muhammad Tahir @ Colorado State University"
   ]
  },
  {
   "cell_type": "markdown",
   "metadata": {},
   "source": [
    "## Fast Radius"
   ]
  },
  {
   "cell_type": "markdown",
   "metadata": {},
   "source": [
    "### Outlook:\n",
    "#### I enjoyed learning a lot of new business questions. There are a lot of interesting things to explore further if I have more discussion and time. I got highest score with polynomial regression and random forest as compared to linear regression, SVM, ridge and lasso.\n",
    "#### I want to try piple-line using decision tree, lasso and elasticnet,  or XGBoost etc. Also I need to do feature engineering (interaction, groupby etc) and parameter tuning for further optimization.\n",
    "\n",
    "#### I am going to drop around 244 observations because they are structured missing in most columns.\n",
    "\n",
    "#### Data is clearly small and our business interests need clarity like what we want to achieve; either metric score of which field (feature or column) is usually more important.\n",
    "\n",
    "--- The work is done as following:\n",
    "#### Part-1: Imports and Data Extraction\n",
    "#### Part-2: Exploratory Data Analysis\n",
    "#### Part-3: Model Prediction (model-1: linear regression, model-2: polynomial regression, model-3: ridge, model-4: lassocv, model-5: random forest, model-6: support vector machine)\n",
    "#### Part-4: Model work for testing"
   ]
  },
  {
   "cell_type": "markdown",
   "metadata": {},
   "source": [
    "## Part-1:  Imports and Data Extraction"
   ]
  },
  {
   "cell_type": "markdown",
   "metadata": {},
   "source": [
    "### Imports"
   ]
  },
  {
   "cell_type": "code",
   "execution_count": 1,
   "metadata": {},
   "outputs": [],
   "source": [
    "# Required Imports \n",
    "import pandas as pd\n",
    "import numpy as np\n",
    "import seaborn as sns\n",
    "import matplotlib.pyplot as plt\n",
    "\n",
    "# Import train_test_split.\n",
    "from sklearn.model_selection import train_test_split, cross_val_score\n",
    "\n",
    "# Import linear regression\n",
    "from sklearn.linear_model import LinearRegression\n",
    "\n",
    "\n",
    "# Import metrics.\n",
    "from sklearn import metrics\n",
    "from sklearn.metrics import mean_squared_error"
   ]
  },
  {
   "cell_type": "markdown",
   "metadata": {},
   "source": [
    "### Data Extraction"
   ]
  },
  {
   "cell_type": "code",
   "execution_count": 2,
   "metadata": {},
   "outputs": [],
   "source": [
    "df_cost = pd.read_csv('best_ever_costs.csv')"
   ]
  },
  {
   "cell_type": "code",
   "execution_count": 3,
   "metadata": {},
   "outputs": [
    {
     "data": {
      "text/html": [
       "<div>\n",
       "<style scoped>\n",
       "    .dataframe tbody tr th:only-of-type {\n",
       "        vertical-align: middle;\n",
       "    }\n",
       "\n",
       "    .dataframe tbody tr th {\n",
       "        vertical-align: top;\n",
       "    }\n",
       "\n",
       "    .dataframe thead th {\n",
       "        text-align: right;\n",
       "    }\n",
       "</style>\n",
       "<table border=\"1\" class=\"dataframe\">\n",
       "  <thead>\n",
       "    <tr style=\"text-align: right;\">\n",
       "      <th></th>\n",
       "      <th>material</th>\n",
       "      <th>per_unit_cost</th>\n",
       "      <th>quantity</th>\n",
       "      <th>complexity_score</th>\n",
       "      <th>surface_area</th>\n",
       "      <th>bounding_box_volume</th>\n",
       "      <th>volume</th>\n",
       "      <th>max_x_length</th>\n",
       "      <th>max_y_length</th>\n",
       "      <th>max_z_length</th>\n",
       "      <th>optimal_fit_on_hp_build_plate</th>\n",
       "    </tr>\n",
       "  </thead>\n",
       "  <tbody>\n",
       "    <tr>\n",
       "      <th>0</th>\n",
       "      <td>ABS-M30</td>\n",
       "      <td>30.67</td>\n",
       "      <td>2</td>\n",
       "      <td>8.951051</td>\n",
       "      <td>{\"units\": \"in^2/\", \"value\": 30.86906387028813}</td>\n",
       "      <td>{\"units\": \"in^3/\", \"value\": 21.753358840942383}</td>\n",
       "      <td>{\"units\": \"in^3/\", \"value\": 2.392122115044577}</td>\n",
       "      <td>{\"units\": \"in\", \"value\": 7.431044101715088}</td>\n",
       "      <td>{\"units\": \"in\", \"value\": 2.342428207397461}</td>\n",
       "      <td>{\"units\": \"in\", \"value\": 1.2497128248214722}</td>\n",
       "      <td>1046.0</td>\n",
       "    </tr>\n",
       "    <tr>\n",
       "      <th>1</th>\n",
       "      <td>ABS-M30</td>\n",
       "      <td>644.38</td>\n",
       "      <td>3</td>\n",
       "      <td>9.128668</td>\n",
       "      <td>{\"units\": \"mm^2/\", \"value\": 751674.309321575}</td>\n",
       "      <td>{\"units\": \"mm^3/\", \"value\": 5456805.5}</td>\n",
       "      <td>{\"units\": \"mm^3/\", \"value\": 886843.7309218515}</td>\n",
       "      <td>{\"units\": \"mm\", \"value\": 484.1076354980469}</td>\n",
       "      <td>{\"units\": \"mm\", \"value\": 387.3500061035156}</td>\n",
       "      <td>{\"units\": \"mm\", \"value\": 29.099998474121094}</td>\n",
       "      <td>46.0</td>\n",
       "    </tr>\n",
       "    <tr>\n",
       "      <th>2</th>\n",
       "      <td>ABS-M30</td>\n",
       "      <td>853.24</td>\n",
       "      <td>3</td>\n",
       "      <td>7.884523</td>\n",
       "      <td>{\"units\": \"mm^2/\", \"value\": 1004271.6988237221}</td>\n",
       "      <td>{\"units\": \"mm^3/\", \"value\": 10672181.0}</td>\n",
       "      <td>{\"units\": \"mm^3/\", \"value\": 1298836.9205762406}</td>\n",
       "      <td>{\"units\": \"mm\", \"value\": 584.1876831054688}</td>\n",
       "      <td>{\"units\": \"mm\", \"value\": 487.15765380859375}</td>\n",
       "      <td>{\"units\": \"mm\", \"value\": 37.5}</td>\n",
       "      <td>31.0</td>\n",
       "    </tr>\n",
       "    <tr>\n",
       "      <th>3</th>\n",
       "      <td>ABS-M30</td>\n",
       "      <td>638.75</td>\n",
       "      <td>3</td>\n",
       "      <td>9.892117</td>\n",
       "      <td>{\"units\": \"mm^2/\", \"value\": 770573.781450489}</td>\n",
       "      <td>{\"units\": \"mm^3/\", \"value\": 6037922.5}</td>\n",
       "      <td>{\"units\": \"mm^3/\", \"value\": 917936.479691732}</td>\n",
       "      <td>{\"units\": \"mm\", \"value\": 484.1076354980469}</td>\n",
       "      <td>{\"units\": \"mm\", \"value\": 387.337646484375}</td>\n",
       "      <td>{\"units\": \"mm\", \"value\": 32.20000076293945}</td>\n",
       "      <td>44.0</td>\n",
       "    </tr>\n",
       "    <tr>\n",
       "      <th>4</th>\n",
       "      <td>Ultem 1010</td>\n",
       "      <td>63.88</td>\n",
       "      <td>10</td>\n",
       "      <td>8.704826</td>\n",
       "      <td>{\"units\": \"mm^2/\", \"value\": 25472.59762170911}</td>\n",
       "      <td>{\"units\": \"mm^3/\", \"value\": 335400}</td>\n",
       "      <td>{\"units\": \"mm^3/\", \"value\": 85285.97260241448}</td>\n",
       "      <td>{\"units\": \"mm\", \"value\": 100.0}</td>\n",
       "      <td>{\"units\": \"mm\", \"value\": 129.0}</td>\n",
       "      <td>{\"units\": \"mm\", \"value\": 26.0}</td>\n",
       "      <td>480.0</td>\n",
       "    </tr>\n",
       "  </tbody>\n",
       "</table>\n",
       "</div>"
      ],
      "text/plain": [
       "     material  per_unit_cost  quantity  complexity_score  \\\n",
       "0     ABS-M30          30.67         2          8.951051   \n",
       "1     ABS-M30         644.38         3          9.128668   \n",
       "2     ABS-M30         853.24         3          7.884523   \n",
       "3     ABS-M30         638.75         3          9.892117   \n",
       "4  Ultem 1010          63.88        10          8.704826   \n",
       "\n",
       "                                      surface_area  \\\n",
       "0   {\"units\": \"in^2/\", \"value\": 30.86906387028813}   \n",
       "1    {\"units\": \"mm^2/\", \"value\": 751674.309321575}   \n",
       "2  {\"units\": \"mm^2/\", \"value\": 1004271.6988237221}   \n",
       "3    {\"units\": \"mm^2/\", \"value\": 770573.781450489}   \n",
       "4   {\"units\": \"mm^2/\", \"value\": 25472.59762170911}   \n",
       "\n",
       "                               bounding_box_volume  \\\n",
       "0  {\"units\": \"in^3/\", \"value\": 21.753358840942383}   \n",
       "1           {\"units\": \"mm^3/\", \"value\": 5456805.5}   \n",
       "2          {\"units\": \"mm^3/\", \"value\": 10672181.0}   \n",
       "3           {\"units\": \"mm^3/\", \"value\": 6037922.5}   \n",
       "4              {\"units\": \"mm^3/\", \"value\": 335400}   \n",
       "\n",
       "                                            volume  \\\n",
       "0   {\"units\": \"in^3/\", \"value\": 2.392122115044577}   \n",
       "1   {\"units\": \"mm^3/\", \"value\": 886843.7309218515}   \n",
       "2  {\"units\": \"mm^3/\", \"value\": 1298836.9205762406}   \n",
       "3    {\"units\": \"mm^3/\", \"value\": 917936.479691732}   \n",
       "4   {\"units\": \"mm^3/\", \"value\": 85285.97260241448}   \n",
       "\n",
       "                                  max_x_length  \\\n",
       "0  {\"units\": \"in\", \"value\": 7.431044101715088}   \n",
       "1  {\"units\": \"mm\", \"value\": 484.1076354980469}   \n",
       "2  {\"units\": \"mm\", \"value\": 584.1876831054688}   \n",
       "3  {\"units\": \"mm\", \"value\": 484.1076354980469}   \n",
       "4              {\"units\": \"mm\", \"value\": 100.0}   \n",
       "\n",
       "                                   max_y_length  \\\n",
       "0   {\"units\": \"in\", \"value\": 2.342428207397461}   \n",
       "1   {\"units\": \"mm\", \"value\": 387.3500061035156}   \n",
       "2  {\"units\": \"mm\", \"value\": 487.15765380859375}   \n",
       "3    {\"units\": \"mm\", \"value\": 387.337646484375}   \n",
       "4               {\"units\": \"mm\", \"value\": 129.0}   \n",
       "\n",
       "                                   max_z_length  optimal_fit_on_hp_build_plate  \n",
       "0  {\"units\": \"in\", \"value\": 1.2497128248214722}                         1046.0  \n",
       "1  {\"units\": \"mm\", \"value\": 29.099998474121094}                           46.0  \n",
       "2                {\"units\": \"mm\", \"value\": 37.5}                           31.0  \n",
       "3   {\"units\": \"mm\", \"value\": 32.20000076293945}                           44.0  \n",
       "4                {\"units\": \"mm\", \"value\": 26.0}                          480.0  "
      ]
     },
     "execution_count": 3,
     "metadata": {},
     "output_type": "execute_result"
    }
   ],
   "source": [
    "df_cost.head()"
   ]
  },
  {
   "cell_type": "markdown",
   "metadata": {},
   "source": [
    "## Part-2: Exploratory Data Analysis"
   ]
  },
  {
   "cell_type": "code",
   "execution_count": 4,
   "metadata": {},
   "outputs": [
    {
     "name": "stdout",
     "output_type": "stream",
     "text": [
      "<class 'pandas.core.frame.DataFrame'>\n",
      "RangeIndex: 1076 entries, 0 to 1075\n",
      "Data columns (total 11 columns):\n",
      " #   Column                         Non-Null Count  Dtype  \n",
      "---  ------                         --------------  -----  \n",
      " 0   material                       1076 non-null   object \n",
      " 1   per_unit_cost                  1076 non-null   float64\n",
      " 2   quantity                       1076 non-null   int64  \n",
      " 3   complexity_score               832 non-null    float64\n",
      " 4   surface_area                   1076 non-null   object \n",
      " 5   bounding_box_volume            1076 non-null   object \n",
      " 6   volume                         1076 non-null   object \n",
      " 7   max_x_length                   1076 non-null   object \n",
      " 8   max_y_length                   1076 non-null   object \n",
      " 9   max_z_length                   1076 non-null   object \n",
      " 10  optimal_fit_on_hp_build_plate  798 non-null    float64\n",
      "dtypes: float64(3), int64(1), object(7)\n",
      "memory usage: 92.6+ KB\n"
     ]
    }
   ],
   "source": [
    "#checking info of the dataframe df_cost\n",
    "df_cost.info()"
   ]
  },
  {
   "cell_type": "code",
   "execution_count": 5,
   "metadata": {},
   "outputs": [],
   "source": [
    "#df1['surface_area'].apply(lambda x: json.loads(x)['value'])"
   ]
  },
  {
   "cell_type": "code",
   "execution_count": 6,
   "metadata": {},
   "outputs": [],
   "source": [
    "# import json to read dict of few columns or fields\n",
    "import json"
   ]
  },
  {
   "cell_type": "code",
   "execution_count": 7,
   "metadata": {},
   "outputs": [],
   "source": [
    "# A function to convert length(mm/) into inch (inch)\n",
    "def mm_inc1(x):\n",
    "    x = json.loads(x)\n",
    "    unit = x['units']\n",
    "    value = x['value']\n",
    "    if unit == \"mm\":\n",
    "        return None if value is None else value*(0.039370)\n",
    "    else:\n",
    "        return None if value is None else value"
   ]
  },
  {
   "cell_type": "code",
   "execution_count": 8,
   "metadata": {},
   "outputs": [],
   "source": [
    "# A function to convert volume(mm^3/) into inch (inch^3)\n",
    "def mm_inc2(x2):\n",
    "    x2 = json.loads(x2)\n",
    "    unit = x2['units']\n",
    "    value = x2['value']\n",
    "    if unit == \"mm^2/\":\n",
    "        return None if value is None else value*(0.00155)\n",
    "    else:\n",
    "        return None if value is None else value"
   ]
  },
  {
   "cell_type": "code",
   "execution_count": 9,
   "metadata": {},
   "outputs": [],
   "source": [
    "# A function to convert volume(mm^3/) into inch (inch^3)\n",
    "def mm_inc3(x3):\n",
    "    x3 = json.loads(x3)\n",
    "    unit = x3['units']\n",
    "    value = x3['value']\n",
    "    if unit == \"mm^3/\":\n",
    "        return None if value is None else value*(0.0000610237)\n",
    "    else:\n",
    "        return None if value is None else value"
   ]
  },
  {
   "cell_type": "code",
   "execution_count": 10,
   "metadata": {},
   "outputs": [],
   "source": [
    "df_cost_modified = df_cost.copy()"
   ]
  },
  {
   "cell_type": "code",
   "execution_count": 11,
   "metadata": {},
   "outputs": [
    {
     "data": {
      "text/html": [
       "<div>\n",
       "<style scoped>\n",
       "    .dataframe tbody tr th:only-of-type {\n",
       "        vertical-align: middle;\n",
       "    }\n",
       "\n",
       "    .dataframe tbody tr th {\n",
       "        vertical-align: top;\n",
       "    }\n",
       "\n",
       "    .dataframe thead th {\n",
       "        text-align: right;\n",
       "    }\n",
       "</style>\n",
       "<table border=\"1\" class=\"dataframe\">\n",
       "  <thead>\n",
       "    <tr style=\"text-align: right;\">\n",
       "      <th></th>\n",
       "      <th>material</th>\n",
       "      <th>per_unit_cost</th>\n",
       "      <th>quantity</th>\n",
       "      <th>complexity_score</th>\n",
       "      <th>surface_area</th>\n",
       "      <th>bounding_box_volume</th>\n",
       "      <th>volume</th>\n",
       "      <th>max_x_length</th>\n",
       "      <th>max_y_length</th>\n",
       "      <th>max_z_length</th>\n",
       "      <th>optimal_fit_on_hp_build_plate</th>\n",
       "    </tr>\n",
       "  </thead>\n",
       "  <tbody>\n",
       "    <tr>\n",
       "      <th>0</th>\n",
       "      <td>ABS-M30</td>\n",
       "      <td>30.67</td>\n",
       "      <td>2</td>\n",
       "      <td>8.951051</td>\n",
       "      <td>{\"units\": \"in^2/\", \"value\": 30.86906387028813}</td>\n",
       "      <td>{\"units\": \"in^3/\", \"value\": 21.753358840942383}</td>\n",
       "      <td>{\"units\": \"in^3/\", \"value\": 2.392122115044577}</td>\n",
       "      <td>{\"units\": \"in\", \"value\": 7.431044101715088}</td>\n",
       "      <td>{\"units\": \"in\", \"value\": 2.342428207397461}</td>\n",
       "      <td>{\"units\": \"in\", \"value\": 1.2497128248214722}</td>\n",
       "      <td>1046.0</td>\n",
       "    </tr>\n",
       "    <tr>\n",
       "      <th>1</th>\n",
       "      <td>ABS-M30</td>\n",
       "      <td>644.38</td>\n",
       "      <td>3</td>\n",
       "      <td>9.128668</td>\n",
       "      <td>{\"units\": \"mm^2/\", \"value\": 751674.309321575}</td>\n",
       "      <td>{\"units\": \"mm^3/\", \"value\": 5456805.5}</td>\n",
       "      <td>{\"units\": \"mm^3/\", \"value\": 886843.7309218515}</td>\n",
       "      <td>{\"units\": \"mm\", \"value\": 484.1076354980469}</td>\n",
       "      <td>{\"units\": \"mm\", \"value\": 387.3500061035156}</td>\n",
       "      <td>{\"units\": \"mm\", \"value\": 29.099998474121094}</td>\n",
       "      <td>46.0</td>\n",
       "    </tr>\n",
       "    <tr>\n",
       "      <th>2</th>\n",
       "      <td>ABS-M30</td>\n",
       "      <td>853.24</td>\n",
       "      <td>3</td>\n",
       "      <td>7.884523</td>\n",
       "      <td>{\"units\": \"mm^2/\", \"value\": 1004271.6988237221}</td>\n",
       "      <td>{\"units\": \"mm^3/\", \"value\": 10672181.0}</td>\n",
       "      <td>{\"units\": \"mm^3/\", \"value\": 1298836.9205762406}</td>\n",
       "      <td>{\"units\": \"mm\", \"value\": 584.1876831054688}</td>\n",
       "      <td>{\"units\": \"mm\", \"value\": 487.15765380859375}</td>\n",
       "      <td>{\"units\": \"mm\", \"value\": 37.5}</td>\n",
       "      <td>31.0</td>\n",
       "    </tr>\n",
       "    <tr>\n",
       "      <th>3</th>\n",
       "      <td>ABS-M30</td>\n",
       "      <td>638.75</td>\n",
       "      <td>3</td>\n",
       "      <td>9.892117</td>\n",
       "      <td>{\"units\": \"mm^2/\", \"value\": 770573.781450489}</td>\n",
       "      <td>{\"units\": \"mm^3/\", \"value\": 6037922.5}</td>\n",
       "      <td>{\"units\": \"mm^3/\", \"value\": 917936.479691732}</td>\n",
       "      <td>{\"units\": \"mm\", \"value\": 484.1076354980469}</td>\n",
       "      <td>{\"units\": \"mm\", \"value\": 387.337646484375}</td>\n",
       "      <td>{\"units\": \"mm\", \"value\": 32.20000076293945}</td>\n",
       "      <td>44.0</td>\n",
       "    </tr>\n",
       "    <tr>\n",
       "      <th>4</th>\n",
       "      <td>Ultem 1010</td>\n",
       "      <td>63.88</td>\n",
       "      <td>10</td>\n",
       "      <td>8.704826</td>\n",
       "      <td>{\"units\": \"mm^2/\", \"value\": 25472.59762170911}</td>\n",
       "      <td>{\"units\": \"mm^3/\", \"value\": 335400}</td>\n",
       "      <td>{\"units\": \"mm^3/\", \"value\": 85285.97260241448}</td>\n",
       "      <td>{\"units\": \"mm\", \"value\": 100.0}</td>\n",
       "      <td>{\"units\": \"mm\", \"value\": 129.0}</td>\n",
       "      <td>{\"units\": \"mm\", \"value\": 26.0}</td>\n",
       "      <td>480.0</td>\n",
       "    </tr>\n",
       "  </tbody>\n",
       "</table>\n",
       "</div>"
      ],
      "text/plain": [
       "     material  per_unit_cost  quantity  complexity_score  \\\n",
       "0     ABS-M30          30.67         2          8.951051   \n",
       "1     ABS-M30         644.38         3          9.128668   \n",
       "2     ABS-M30         853.24         3          7.884523   \n",
       "3     ABS-M30         638.75         3          9.892117   \n",
       "4  Ultem 1010          63.88        10          8.704826   \n",
       "\n",
       "                                      surface_area  \\\n",
       "0   {\"units\": \"in^2/\", \"value\": 30.86906387028813}   \n",
       "1    {\"units\": \"mm^2/\", \"value\": 751674.309321575}   \n",
       "2  {\"units\": \"mm^2/\", \"value\": 1004271.6988237221}   \n",
       "3    {\"units\": \"mm^2/\", \"value\": 770573.781450489}   \n",
       "4   {\"units\": \"mm^2/\", \"value\": 25472.59762170911}   \n",
       "\n",
       "                               bounding_box_volume  \\\n",
       "0  {\"units\": \"in^3/\", \"value\": 21.753358840942383}   \n",
       "1           {\"units\": \"mm^3/\", \"value\": 5456805.5}   \n",
       "2          {\"units\": \"mm^3/\", \"value\": 10672181.0}   \n",
       "3           {\"units\": \"mm^3/\", \"value\": 6037922.5}   \n",
       "4              {\"units\": \"mm^3/\", \"value\": 335400}   \n",
       "\n",
       "                                            volume  \\\n",
       "0   {\"units\": \"in^3/\", \"value\": 2.392122115044577}   \n",
       "1   {\"units\": \"mm^3/\", \"value\": 886843.7309218515}   \n",
       "2  {\"units\": \"mm^3/\", \"value\": 1298836.9205762406}   \n",
       "3    {\"units\": \"mm^3/\", \"value\": 917936.479691732}   \n",
       "4   {\"units\": \"mm^3/\", \"value\": 85285.97260241448}   \n",
       "\n",
       "                                  max_x_length  \\\n",
       "0  {\"units\": \"in\", \"value\": 7.431044101715088}   \n",
       "1  {\"units\": \"mm\", \"value\": 484.1076354980469}   \n",
       "2  {\"units\": \"mm\", \"value\": 584.1876831054688}   \n",
       "3  {\"units\": \"mm\", \"value\": 484.1076354980469}   \n",
       "4              {\"units\": \"mm\", \"value\": 100.0}   \n",
       "\n",
       "                                   max_y_length  \\\n",
       "0   {\"units\": \"in\", \"value\": 2.342428207397461}   \n",
       "1   {\"units\": \"mm\", \"value\": 387.3500061035156}   \n",
       "2  {\"units\": \"mm\", \"value\": 487.15765380859375}   \n",
       "3    {\"units\": \"mm\", \"value\": 387.337646484375}   \n",
       "4               {\"units\": \"mm\", \"value\": 129.0}   \n",
       "\n",
       "                                   max_z_length  optimal_fit_on_hp_build_plate  \n",
       "0  {\"units\": \"in\", \"value\": 1.2497128248214722}                         1046.0  \n",
       "1  {\"units\": \"mm\", \"value\": 29.099998474121094}                           46.0  \n",
       "2                {\"units\": \"mm\", \"value\": 37.5}                           31.0  \n",
       "3   {\"units\": \"mm\", \"value\": 32.20000076293945}                           44.0  \n",
       "4                {\"units\": \"mm\", \"value\": 26.0}                          480.0  "
      ]
     },
     "execution_count": 11,
     "metadata": {},
     "output_type": "execute_result"
    }
   ],
   "source": [
    "df_cost_modified.head()"
   ]
  },
  {
   "cell_type": "code",
   "execution_count": 12,
   "metadata": {},
   "outputs": [],
   "source": [
    "df_cost_modified['max_x_length'] = df_cost_modified['max_x_length'].apply(mm_inc1)"
   ]
  },
  {
   "cell_type": "code",
   "execution_count": 13,
   "metadata": {},
   "outputs": [],
   "source": [
    "df_cost_modified['max_y_length'] = df_cost_modified['max_y_length'].apply(mm_inc1)"
   ]
  },
  {
   "cell_type": "code",
   "execution_count": 14,
   "metadata": {},
   "outputs": [],
   "source": [
    "df_cost_modified['max_z_length'] = df_cost_modified['max_z_length'].apply(mm_inc1)"
   ]
  },
  {
   "cell_type": "code",
   "execution_count": 15,
   "metadata": {},
   "outputs": [],
   "source": [
    "df_cost_modified['surface_area'] = df_cost_modified['surface_area'].apply(mm_inc2)"
   ]
  },
  {
   "cell_type": "code",
   "execution_count": 16,
   "metadata": {},
   "outputs": [],
   "source": [
    "df_cost_modified['bounding_box_volume'] = df_cost_modified['bounding_box_volume'].apply(mm_inc3)"
   ]
  },
  {
   "cell_type": "code",
   "execution_count": 17,
   "metadata": {},
   "outputs": [],
   "source": [
    "df_cost_modified['volume'] = df_cost_modified['volume'].apply(mm_inc3)"
   ]
  },
  {
   "cell_type": "code",
   "execution_count": 18,
   "metadata": {},
   "outputs": [
    {
     "data": {
      "text/html": [
       "<div>\n",
       "<style scoped>\n",
       "    .dataframe tbody tr th:only-of-type {\n",
       "        vertical-align: middle;\n",
       "    }\n",
       "\n",
       "    .dataframe tbody tr th {\n",
       "        vertical-align: top;\n",
       "    }\n",
       "\n",
       "    .dataframe thead th {\n",
       "        text-align: right;\n",
       "    }\n",
       "</style>\n",
       "<table border=\"1\" class=\"dataframe\">\n",
       "  <thead>\n",
       "    <tr style=\"text-align: right;\">\n",
       "      <th></th>\n",
       "      <th>material</th>\n",
       "      <th>per_unit_cost</th>\n",
       "      <th>quantity</th>\n",
       "      <th>complexity_score</th>\n",
       "      <th>surface_area</th>\n",
       "      <th>bounding_box_volume</th>\n",
       "      <th>volume</th>\n",
       "      <th>max_x_length</th>\n",
       "      <th>max_y_length</th>\n",
       "      <th>max_z_length</th>\n",
       "      <th>optimal_fit_on_hp_build_plate</th>\n",
       "    </tr>\n",
       "  </thead>\n",
       "  <tbody>\n",
       "    <tr>\n",
       "      <th>0</th>\n",
       "      <td>ABS-M30</td>\n",
       "      <td>30.67</td>\n",
       "      <td>2</td>\n",
       "      <td>8.951051</td>\n",
       "      <td>30.869064</td>\n",
       "      <td>21.753359</td>\n",
       "      <td>2.392122</td>\n",
       "      <td>7.431044</td>\n",
       "      <td>2.342428</td>\n",
       "      <td>1.249713</td>\n",
       "      <td>1046.0</td>\n",
       "    </tr>\n",
       "    <tr>\n",
       "      <th>1</th>\n",
       "      <td>ABS-M30</td>\n",
       "      <td>644.38</td>\n",
       "      <td>3</td>\n",
       "      <td>9.128668</td>\n",
       "      <td>1165.095179</td>\n",
       "      <td>332.994462</td>\n",
       "      <td>54.118486</td>\n",
       "      <td>19.059318</td>\n",
       "      <td>15.249970</td>\n",
       "      <td>1.145667</td>\n",
       "      <td>46.0</td>\n",
       "    </tr>\n",
       "    <tr>\n",
       "      <th>2</th>\n",
       "      <td>ABS-M30</td>\n",
       "      <td>853.24</td>\n",
       "      <td>3</td>\n",
       "      <td>7.884523</td>\n",
       "      <td>1556.621133</td>\n",
       "      <td>651.255972</td>\n",
       "      <td>79.259835</td>\n",
       "      <td>22.999469</td>\n",
       "      <td>19.179397</td>\n",
       "      <td>1.476375</td>\n",
       "      <td>31.0</td>\n",
       "    </tr>\n",
       "    <tr>\n",
       "      <th>3</th>\n",
       "      <td>ABS-M30</td>\n",
       "      <td>638.75</td>\n",
       "      <td>3</td>\n",
       "      <td>9.892117</td>\n",
       "      <td>1194.389361</td>\n",
       "      <td>368.456371</td>\n",
       "      <td>56.015880</td>\n",
       "      <td>19.059318</td>\n",
       "      <td>15.249483</td>\n",
       "      <td>1.267714</td>\n",
       "      <td>44.0</td>\n",
       "    </tr>\n",
       "    <tr>\n",
       "      <th>4</th>\n",
       "      <td>Ultem 1010</td>\n",
       "      <td>63.88</td>\n",
       "      <td>10</td>\n",
       "      <td>8.704826</td>\n",
       "      <td>39.482526</td>\n",
       "      <td>20.467349</td>\n",
       "      <td>5.204466</td>\n",
       "      <td>3.937000</td>\n",
       "      <td>5.078730</td>\n",
       "      <td>1.023620</td>\n",
       "      <td>480.0</td>\n",
       "    </tr>\n",
       "  </tbody>\n",
       "</table>\n",
       "</div>"
      ],
      "text/plain": [
       "     material  per_unit_cost  quantity  complexity_score  surface_area  \\\n",
       "0     ABS-M30          30.67         2          8.951051     30.869064   \n",
       "1     ABS-M30         644.38         3          9.128668   1165.095179   \n",
       "2     ABS-M30         853.24         3          7.884523   1556.621133   \n",
       "3     ABS-M30         638.75         3          9.892117   1194.389361   \n",
       "4  Ultem 1010          63.88        10          8.704826     39.482526   \n",
       "\n",
       "   bounding_box_volume     volume  max_x_length  max_y_length  max_z_length  \\\n",
       "0            21.753359   2.392122      7.431044      2.342428      1.249713   \n",
       "1           332.994462  54.118486     19.059318     15.249970      1.145667   \n",
       "2           651.255972  79.259835     22.999469     19.179397      1.476375   \n",
       "3           368.456371  56.015880     19.059318     15.249483      1.267714   \n",
       "4            20.467349   5.204466      3.937000      5.078730      1.023620   \n",
       "\n",
       "   optimal_fit_on_hp_build_plate  \n",
       "0                         1046.0  \n",
       "1                           46.0  \n",
       "2                           31.0  \n",
       "3                           44.0  \n",
       "4                          480.0  "
      ]
     },
     "execution_count": 18,
     "metadata": {},
     "output_type": "execute_result"
    }
   ],
   "source": [
    "df_cost_modified.head()"
   ]
  },
  {
   "cell_type": "code",
   "execution_count": 19,
   "metadata": {},
   "outputs": [],
   "source": [
    "#checking null values"
   ]
  },
  {
   "cell_type": "code",
   "execution_count": 20,
   "metadata": {},
   "outputs": [
    {
     "data": {
      "text/plain": [
       "material                           0\n",
       "per_unit_cost                      0\n",
       "quantity                           0\n",
       "complexity_score                 244\n",
       "surface_area                     244\n",
       "bounding_box_volume              244\n",
       "volume                           244\n",
       "max_x_length                     244\n",
       "max_y_length                     244\n",
       "max_z_length                     244\n",
       "optimal_fit_on_hp_build_plate    278\n",
       "dtype: int64"
      ]
     },
     "execution_count": 20,
     "metadata": {},
     "output_type": "execute_result"
    }
   ],
   "source": [
    "df_cost_modified.isnull().sum()"
   ]
  },
  {
   "cell_type": "code",
   "execution_count": 21,
   "metadata": {},
   "outputs": [
    {
     "data": {
      "text/html": [
       "<div>\n",
       "<style scoped>\n",
       "    .dataframe tbody tr th:only-of-type {\n",
       "        vertical-align: middle;\n",
       "    }\n",
       "\n",
       "    .dataframe tbody tr th {\n",
       "        vertical-align: top;\n",
       "    }\n",
       "\n",
       "    .dataframe thead th {\n",
       "        text-align: right;\n",
       "    }\n",
       "</style>\n",
       "<table border=\"1\" class=\"dataframe\">\n",
       "  <thead>\n",
       "    <tr style=\"text-align: right;\">\n",
       "      <th></th>\n",
       "      <th>material</th>\n",
       "      <th>per_unit_cost</th>\n",
       "      <th>quantity</th>\n",
       "      <th>complexity_score</th>\n",
       "      <th>surface_area</th>\n",
       "      <th>bounding_box_volume</th>\n",
       "      <th>volume</th>\n",
       "      <th>max_x_length</th>\n",
       "      <th>max_y_length</th>\n",
       "      <th>max_z_length</th>\n",
       "      <th>optimal_fit_on_hp_build_plate</th>\n",
       "    </tr>\n",
       "  </thead>\n",
       "  <tbody>\n",
       "    <tr>\n",
       "      <th>0</th>\n",
       "      <td>ABS-M30</td>\n",
       "      <td>30.67</td>\n",
       "      <td>2</td>\n",
       "      <td>8.951051</td>\n",
       "      <td>30.869064</td>\n",
       "      <td>21.753359</td>\n",
       "      <td>2.392122</td>\n",
       "      <td>7.431044</td>\n",
       "      <td>2.342428</td>\n",
       "      <td>1.249713</td>\n",
       "      <td>1046.0</td>\n",
       "    </tr>\n",
       "    <tr>\n",
       "      <th>1</th>\n",
       "      <td>ABS-M30</td>\n",
       "      <td>644.38</td>\n",
       "      <td>3</td>\n",
       "      <td>9.128668</td>\n",
       "      <td>1165.095179</td>\n",
       "      <td>332.994462</td>\n",
       "      <td>54.118486</td>\n",
       "      <td>19.059318</td>\n",
       "      <td>15.249970</td>\n",
       "      <td>1.145667</td>\n",
       "      <td>46.0</td>\n",
       "    </tr>\n",
       "    <tr>\n",
       "      <th>2</th>\n",
       "      <td>ABS-M30</td>\n",
       "      <td>853.24</td>\n",
       "      <td>3</td>\n",
       "      <td>7.884523</td>\n",
       "      <td>1556.621133</td>\n",
       "      <td>651.255972</td>\n",
       "      <td>79.259835</td>\n",
       "      <td>22.999469</td>\n",
       "      <td>19.179397</td>\n",
       "      <td>1.476375</td>\n",
       "      <td>31.0</td>\n",
       "    </tr>\n",
       "    <tr>\n",
       "      <th>3</th>\n",
       "      <td>ABS-M30</td>\n",
       "      <td>638.75</td>\n",
       "      <td>3</td>\n",
       "      <td>9.892117</td>\n",
       "      <td>1194.389361</td>\n",
       "      <td>368.456371</td>\n",
       "      <td>56.015880</td>\n",
       "      <td>19.059318</td>\n",
       "      <td>15.249483</td>\n",
       "      <td>1.267714</td>\n",
       "      <td>44.0</td>\n",
       "    </tr>\n",
       "    <tr>\n",
       "      <th>4</th>\n",
       "      <td>Ultem 1010</td>\n",
       "      <td>63.88</td>\n",
       "      <td>10</td>\n",
       "      <td>8.704826</td>\n",
       "      <td>39.482526</td>\n",
       "      <td>20.467349</td>\n",
       "      <td>5.204466</td>\n",
       "      <td>3.937000</td>\n",
       "      <td>5.078730</td>\n",
       "      <td>1.023620</td>\n",
       "      <td>480.0</td>\n",
       "    </tr>\n",
       "    <tr>\n",
       "      <th>...</th>\n",
       "      <td>...</td>\n",
       "      <td>...</td>\n",
       "      <td>...</td>\n",
       "      <td>...</td>\n",
       "      <td>...</td>\n",
       "      <td>...</td>\n",
       "      <td>...</td>\n",
       "      <td>...</td>\n",
       "      <td>...</td>\n",
       "      <td>...</td>\n",
       "      <td>...</td>\n",
       "    </tr>\n",
       "    <tr>\n",
       "      <th>1071</th>\n",
       "      <td>ABS-M30i</td>\n",
       "      <td>25.76</td>\n",
       "      <td>500</td>\n",
       "      <td>6.085047</td>\n",
       "      <td>117.163076</td>\n",
       "      <td>70.051491</td>\n",
       "      <td>13.179232</td>\n",
       "      <td>16.952934</td>\n",
       "      <td>7.512938</td>\n",
       "      <td>0.550000</td>\n",
       "      <td>0.0</td>\n",
       "    </tr>\n",
       "    <tr>\n",
       "      <th>1072</th>\n",
       "      <td>PC-ABS</td>\n",
       "      <td>107.20</td>\n",
       "      <td>1</td>\n",
       "      <td>6.085047</td>\n",
       "      <td>117.163076</td>\n",
       "      <td>70.051491</td>\n",
       "      <td>13.179232</td>\n",
       "      <td>16.952934</td>\n",
       "      <td>7.512938</td>\n",
       "      <td>0.550000</td>\n",
       "      <td>0.0</td>\n",
       "    </tr>\n",
       "    <tr>\n",
       "      <th>1073</th>\n",
       "      <td>PC-ABS</td>\n",
       "      <td>107.20</td>\n",
       "      <td>1</td>\n",
       "      <td>6.085047</td>\n",
       "      <td>117.163076</td>\n",
       "      <td>70.051491</td>\n",
       "      <td>13.179232</td>\n",
       "      <td>16.952934</td>\n",
       "      <td>7.512938</td>\n",
       "      <td>0.550000</td>\n",
       "      <td>0.0</td>\n",
       "    </tr>\n",
       "    <tr>\n",
       "      <th>1074</th>\n",
       "      <td>PC-ABS</td>\n",
       "      <td>107.20</td>\n",
       "      <td>1</td>\n",
       "      <td>6.085047</td>\n",
       "      <td>117.163076</td>\n",
       "      <td>70.051491</td>\n",
       "      <td>13.179232</td>\n",
       "      <td>16.952934</td>\n",
       "      <td>7.512938</td>\n",
       "      <td>0.550000</td>\n",
       "      <td>0.0</td>\n",
       "    </tr>\n",
       "    <tr>\n",
       "      <th>1075</th>\n",
       "      <td>PC-ABS</td>\n",
       "      <td>107.20</td>\n",
       "      <td>1</td>\n",
       "      <td>6.085047</td>\n",
       "      <td>117.163076</td>\n",
       "      <td>70.051491</td>\n",
       "      <td>13.179232</td>\n",
       "      <td>16.952934</td>\n",
       "      <td>7.512938</td>\n",
       "      <td>0.550000</td>\n",
       "      <td>0.0</td>\n",
       "    </tr>\n",
       "  </tbody>\n",
       "</table>\n",
       "<p>1076 rows × 11 columns</p>\n",
       "</div>"
      ],
      "text/plain": [
       "        material  per_unit_cost  quantity  complexity_score  surface_area  \\\n",
       "0        ABS-M30          30.67         2          8.951051     30.869064   \n",
       "1        ABS-M30         644.38         3          9.128668   1165.095179   \n",
       "2        ABS-M30         853.24         3          7.884523   1556.621133   \n",
       "3        ABS-M30         638.75         3          9.892117   1194.389361   \n",
       "4     Ultem 1010          63.88        10          8.704826     39.482526   \n",
       "...          ...            ...       ...               ...           ...   \n",
       "1071    ABS-M30i          25.76       500          6.085047    117.163076   \n",
       "1072      PC-ABS         107.20         1          6.085047    117.163076   \n",
       "1073      PC-ABS         107.20         1          6.085047    117.163076   \n",
       "1074      PC-ABS         107.20         1          6.085047    117.163076   \n",
       "1075      PC-ABS         107.20         1          6.085047    117.163076   \n",
       "\n",
       "      bounding_box_volume     volume  max_x_length  max_y_length  \\\n",
       "0               21.753359   2.392122      7.431044      2.342428   \n",
       "1              332.994462  54.118486     19.059318     15.249970   \n",
       "2              651.255972  79.259835     22.999469     19.179397   \n",
       "3              368.456371  56.015880     19.059318     15.249483   \n",
       "4               20.467349   5.204466      3.937000      5.078730   \n",
       "...                   ...        ...           ...           ...   \n",
       "1071            70.051491  13.179232     16.952934      7.512938   \n",
       "1072            70.051491  13.179232     16.952934      7.512938   \n",
       "1073            70.051491  13.179232     16.952934      7.512938   \n",
       "1074            70.051491  13.179232     16.952934      7.512938   \n",
       "1075            70.051491  13.179232     16.952934      7.512938   \n",
       "\n",
       "      max_z_length  optimal_fit_on_hp_build_plate  \n",
       "0         1.249713                         1046.0  \n",
       "1         1.145667                           46.0  \n",
       "2         1.476375                           31.0  \n",
       "3         1.267714                           44.0  \n",
       "4         1.023620                          480.0  \n",
       "...            ...                            ...  \n",
       "1071      0.550000                            0.0  \n",
       "1072      0.550000                            0.0  \n",
       "1073      0.550000                            0.0  \n",
       "1074      0.550000                            0.0  \n",
       "1075      0.550000                            0.0  \n",
       "\n",
       "[1076 rows x 11 columns]"
      ]
     },
     "execution_count": 21,
     "metadata": {},
     "output_type": "execute_result"
    }
   ],
   "source": [
    "df_cost_modified.replace(np.nan, None)"
   ]
  },
  {
   "cell_type": "code",
   "execution_count": 22,
   "metadata": {},
   "outputs": [
    {
     "data": {
      "text/plain": [
       "material                           0\n",
       "per_unit_cost                      0\n",
       "quantity                           0\n",
       "complexity_score                 244\n",
       "surface_area                     244\n",
       "bounding_box_volume              244\n",
       "volume                           244\n",
       "max_x_length                     244\n",
       "max_y_length                     244\n",
       "max_z_length                     244\n",
       "optimal_fit_on_hp_build_plate    278\n",
       "dtype: int64"
      ]
     },
     "execution_count": 22,
     "metadata": {},
     "output_type": "execute_result"
    }
   ],
   "source": [
    "df_cost_modified.isnull().sum()"
   ]
  },
  {
   "cell_type": "code",
   "execution_count": 23,
   "metadata": {},
   "outputs": [
    {
     "data": {
      "text/plain": [
       "<AxesSubplot:>"
      ]
     },
     "execution_count": 23,
     "metadata": {},
     "output_type": "execute_result"
    },
    {
     "data": {
      "image/png": "[encoded data removed]",
      "text/plain": [
       "<Figure size 1728x720 with 3 Axes>"
      ]
     },
     "metadata": {
      "needs_background": "light"
     },
     "output_type": "display_data"
    }
   ],
   "source": [
    "# bar chart to see missing visual in df3\n",
    "\n",
    "import missingno as msno\n",
    "msno.bar(df_cost_modified.sample(1076))"
   ]
  },
  {
   "cell_type": "code",
   "execution_count": 24,
   "metadata": {},
   "outputs": [],
   "source": [
    "df_cost_final = df_cost_modified.dropna()"
   ]
  },
  {
   "cell_type": "code",
   "execution_count": 25,
   "metadata": {},
   "outputs": [
    {
     "name": "stdout",
     "output_type": "stream",
     "text": [
      "<class 'pandas.core.frame.DataFrame'>\n",
      "Int64Index: 798 entries, 0 to 1015\n",
      "Data columns (total 11 columns):\n",
      " #   Column                         Non-Null Count  Dtype  \n",
      "---  ------                         --------------  -----  \n",
      " 0   material                       798 non-null    object \n",
      " 1   per_unit_cost                  798 non-null    float64\n",
      " 2   quantity                       798 non-null    int64  \n",
      " 3   complexity_score               798 non-null    float64\n",
      " 4   surface_area                   798 non-null    float64\n",
      " 5   bounding_box_volume            798 non-null    float64\n",
      " 6   volume                         798 non-null    float64\n",
      " 7   max_x_length                   798 non-null    float64\n",
      " 8   max_y_length                   798 non-null    float64\n",
      " 9   max_z_length                   798 non-null    float64\n",
      " 10  optimal_fit_on_hp_build_plate  798 non-null    float64\n",
      "dtypes: float64(9), int64(1), object(1)\n",
      "memory usage: 74.8+ KB\n"
     ]
    }
   ],
   "source": [
    "df_cost_final.info()"
   ]
  },
  {
   "cell_type": "code",
   "execution_count": 26,
   "metadata": {},
   "outputs": [
    {
     "data": {
      "text/html": [
       "<div>\n",
       "<style scoped>\n",
       "    .dataframe tbody tr th:only-of-type {\n",
       "        vertical-align: middle;\n",
       "    }\n",
       "\n",
       "    .dataframe tbody tr th {\n",
       "        vertical-align: top;\n",
       "    }\n",
       "\n",
       "    .dataframe thead th {\n",
       "        text-align: right;\n",
       "    }\n",
       "</style>\n",
       "<table border=\"1\" class=\"dataframe\">\n",
       "  <thead>\n",
       "    <tr style=\"text-align: right;\">\n",
       "      <th></th>\n",
       "      <th>per_unit_cost</th>\n",
       "      <th>quantity</th>\n",
       "      <th>complexity_score</th>\n",
       "      <th>surface_area</th>\n",
       "      <th>bounding_box_volume</th>\n",
       "      <th>volume</th>\n",
       "      <th>max_x_length</th>\n",
       "      <th>max_y_length</th>\n",
       "      <th>max_z_length</th>\n",
       "      <th>optimal_fit_on_hp_build_plate</th>\n",
       "    </tr>\n",
       "  </thead>\n",
       "  <tbody>\n",
       "    <tr>\n",
       "      <th>count</th>\n",
       "      <td>798.000000</td>\n",
       "      <td>798.000000</td>\n",
       "      <td>798.000000</td>\n",
       "      <td>798.000000</td>\n",
       "      <td>7.980000e+02</td>\n",
       "      <td>7.980000e+02</td>\n",
       "      <td>798.000000</td>\n",
       "      <td>798.000000</td>\n",
       "      <td>798.000000</td>\n",
       "      <td>7.980000e+02</td>\n",
       "    </tr>\n",
       "    <tr>\n",
       "      <th>mean</th>\n",
       "      <td>296.696604</td>\n",
       "      <td>56.046366</td>\n",
       "      <td>8.233974</td>\n",
       "      <td>18437.172865</td>\n",
       "      <td>4.318067e+05</td>\n",
       "      <td>6.315429e+04</td>\n",
       "      <td>37.570478</td>\n",
       "      <td>25.131117</td>\n",
       "      <td>22.892515</td>\n",
       "      <td>1.987327e+05</td>\n",
       "    </tr>\n",
       "    <tr>\n",
       "      <th>std</th>\n",
       "      <td>903.591082</td>\n",
       "      <td>452.704727</td>\n",
       "      <td>1.530271</td>\n",
       "      <td>71420.312566</td>\n",
       "      <td>2.220493e+06</td>\n",
       "      <td>3.231049e+05</td>\n",
       "      <td>145.370976</td>\n",
       "      <td>82.227658</td>\n",
       "      <td>78.458126</td>\n",
       "      <td>1.738396e+06</td>\n",
       "    </tr>\n",
       "    <tr>\n",
       "      <th>min</th>\n",
       "      <td>0.490000</td>\n",
       "      <td>1.000000</td>\n",
       "      <td>0.000000</td>\n",
       "      <td>0.015675</td>\n",
       "      <td>1.696663e-04</td>\n",
       "      <td>4.768193e-05</td>\n",
       "      <td>0.036634</td>\n",
       "      <td>0.022146</td>\n",
       "      <td>0.014764</td>\n",
       "      <td>0.000000e+00</td>\n",
       "    </tr>\n",
       "    <tr>\n",
       "      <th>25%</th>\n",
       "      <td>22.737500</td>\n",
       "      <td>1.000000</td>\n",
       "      <td>7.696640</td>\n",
       "      <td>26.600419</td>\n",
       "      <td>1.055830e+01</td>\n",
       "      <td>1.504998e+00</td>\n",
       "      <td>2.477712</td>\n",
       "      <td>1.580026</td>\n",
       "      <td>1.000000</td>\n",
       "      <td>1.200000e+01</td>\n",
       "    </tr>\n",
       "    <tr>\n",
       "      <th>50%</th>\n",
       "      <td>76.250000</td>\n",
       "      <td>2.000000</td>\n",
       "      <td>8.919141</td>\n",
       "      <td>87.283354</td>\n",
       "      <td>5.234675e+01</td>\n",
       "      <td>9.352734e+00</td>\n",
       "      <td>5.131202</td>\n",
       "      <td>4.000099</td>\n",
       "      <td>3.041306</td>\n",
       "      <td>1.750000e+02</td>\n",
       "    </tr>\n",
       "    <tr>\n",
       "      <th>75%</th>\n",
       "      <td>255.812500</td>\n",
       "      <td>11.750000</td>\n",
       "      <td>9.085606</td>\n",
       "      <td>374.110972</td>\n",
       "      <td>4.971943e+02</td>\n",
       "      <td>5.566931e+01</td>\n",
       "      <td>13.373473</td>\n",
       "      <td>7.994743</td>\n",
       "      <td>8.145196</td>\n",
       "      <td>1.039000e+03</td>\n",
       "    </tr>\n",
       "    <tr>\n",
       "      <th>max</th>\n",
       "      <td>18967.000000</td>\n",
       "      <td>10000.000000</td>\n",
       "      <td>10.332533</td>\n",
       "      <td>480611.535597</td>\n",
       "      <td>3.684299e+07</td>\n",
       "      <td>3.582466e+06</td>\n",
       "      <td>1478.026001</td>\n",
       "      <td>762.000000</td>\n",
       "      <td>1478.026001</td>\n",
       "      <td>3.245873e+07</td>\n",
       "    </tr>\n",
       "  </tbody>\n",
       "</table>\n",
       "</div>"
      ],
      "text/plain": [
       "       per_unit_cost      quantity  complexity_score   surface_area  \\\n",
       "count     798.000000    798.000000        798.000000     798.000000   \n",
       "mean      296.696604     56.046366          8.233974   18437.172865   \n",
       "std       903.591082    452.704727          1.530271   71420.312566   \n",
       "min         0.490000      1.000000          0.000000       0.015675   \n",
       "25%        22.737500      1.000000          7.696640      26.600419   \n",
       "50%        76.250000      2.000000          8.919141      87.283354   \n",
       "75%       255.812500     11.750000          9.085606     374.110972   \n",
       "max     18967.000000  10000.000000         10.332533  480611.535597   \n",
       "\n",
       "       bounding_box_volume        volume  max_x_length  max_y_length  \\\n",
       "count         7.980000e+02  7.980000e+02    798.000000    798.000000   \n",
       "mean          4.318067e+05  6.315429e+04     37.570478     25.131117   \n",
       "std           2.220493e+06  3.231049e+05    145.370976     82.227658   \n",
       "min           1.696663e-04  4.768193e-05      0.036634      0.022146   \n",
       "25%           1.055830e+01  1.504998e+00      2.477712      1.580026   \n",
       "50%           5.234675e+01  9.352734e+00      5.131202      4.000099   \n",
       "75%           4.971943e+02  5.566931e+01     13.373473      7.994743   \n",
       "max           3.684299e+07  3.582466e+06   1478.026001    762.000000   \n",
       "\n",
       "       max_z_length  optimal_fit_on_hp_build_plate  \n",
       "count    798.000000                   7.980000e+02  \n",
       "mean      22.892515                   1.987327e+05  \n",
       "std       78.458126                   1.738396e+06  \n",
       "min        0.014764                   0.000000e+00  \n",
       "25%        1.000000                   1.200000e+01  \n",
       "50%        3.041306                   1.750000e+02  \n",
       "75%        8.145196                   1.039000e+03  \n",
       "max     1478.026001                   3.245873e+07  "
      ]
     },
     "execution_count": 26,
     "metadata": {},
     "output_type": "execute_result"
    }
   ],
   "source": [
    "df_cost_final.describe()"
   ]
  },
  {
   "cell_type": "code",
   "execution_count": 27,
   "metadata": {},
   "outputs": [
    {
     "data": {
      "text/plain": [
       "<AxesSubplot:>"
      ]
     },
     "execution_count": 27,
     "metadata": {},
     "output_type": "execute_result"
    },
    {
     "data": {
      "image/png": "[encoded data removed]",
      "text/plain": [
       "<Figure size 432x288 with 1 Axes>"
      ]
     },
     "metadata": {
      "needs_background": "light"
     },
     "output_type": "display_data"
    }
   ],
   "source": [
    "df_cost_final['complexity_score'].hist()"
   ]
  },
  {
   "cell_type": "code",
   "execution_count": 28,
   "metadata": {},
   "outputs": [],
   "source": [
    "# 1. Correlation analysis (select features based on multicollinearity analysis) eg. drop surface area but no need\n",
    "# 2. Log transform the following: \n",
    "#    a. all features except complexity score\n",
    "#    b. target\n",
    "# 3. use linear regression (try ridge and lasso and random forest)"
   ]
  },
  {
   "cell_type": "code",
   "execution_count": 29,
   "metadata": {},
   "outputs": [],
   "source": [
    "df_cost_final_log = df_cost_final[df_cost_final.columns[1:]].applymap(lambda x: np.log(x+0.01))"
   ]
  },
  {
   "cell_type": "code",
   "execution_count": 30,
   "metadata": {},
   "outputs": [
    {
     "data": {
      "text/plain": [
       "count    798.000000\n",
       "mean       1.453644\n",
       "std        1.689771\n",
       "min        0.009950\n",
       "25%        0.009950\n",
       "50%        0.698135\n",
       "75%        2.464006\n",
       "max        9.210341\n",
       "Name: quantity, dtype: float64"
      ]
     },
     "execution_count": 30,
     "metadata": {},
     "output_type": "execute_result"
    }
   ],
   "source": [
    "df_cost_final_log['quantity'].describe()"
   ]
  },
  {
   "cell_type": "code",
   "execution_count": 31,
   "metadata": {},
   "outputs": [
    {
     "data": {
      "image/png": "[encoded data removed]",
      "text/plain": [
       "<Figure size 720x576 with 2 Axes>"
      ]
     },
     "metadata": {
      "needs_background": "light"
     },
     "output_type": "display_data"
    }
   ],
   "source": [
    "#visual of correlation between fields or columns\n",
    "plt.figure(figsize=(10, 8))\n",
    "mask = np.zeros_like(df_cost_final.corr())\n",
    "mask[np.triu_indices_from(mask)] = True\n",
    "sns.heatmap(df_cost_final.corr(), mask = mask, square = True, cmap = 'viridis', annot = True, vmin=-1, vmax=1);"
   ]
  },
  {
   "cell_type": "code",
   "execution_count": 32,
   "metadata": {},
   "outputs": [
    {
     "data": {
      "image/png": "[encoded data removed]",
      "text/plain": [
       "<Figure size 720x576 with 2 Axes>"
      ]
     },
     "metadata": {
      "needs_background": "light"
     },
     "output_type": "display_data"
    }
   ],
   "source": [
    "#visual of correlation between fields or columns\n",
    "plt.figure(figsize=(10,8))\n",
    "\n",
    "sns.heatmap(df_cost_final.corr()[['surface_area']].sort_values('surface_area', ascending=False), annot=True, cmap='viridis');"
   ]
  },
  {
   "cell_type": "code",
   "execution_count": 33,
   "metadata": {},
   "outputs": [
    {
     "data": {
      "image/png": "[encoded data removed]",
      "text/plain": [
       "<Figure size 720x576 with 2 Axes>"
      ]
     },
     "metadata": {
      "needs_background": "light"
     },
     "output_type": "display_data"
    }
   ],
   "source": [
    "#visual of correlation between fields or columns\n",
    "plt.figure(figsize=(10,8))\n",
    "\n",
    "sns.heatmap(df_cost_final.corr()[['per_unit_cost']].sort_values('per_unit_cost', ascending=False), annot=True, cmap='viridis');"
   ]
  },
  {
   "cell_type": "code",
   "execution_count": 34,
   "metadata": {},
   "outputs": [
    {
     "data": {
      "image/png": "[encoded data removed]",
      "text/plain": [
       "<Figure size 720x576 with 2 Axes>"
      ]
     },
     "metadata": {
      "needs_background": "light"
     },
     "output_type": "display_data"
    }
   ],
   "source": [
    "#visual of correlation between fields or columns\n",
    "plt.figure(figsize=(10,8))\n",
    "\n",
    "sns.heatmap(df_cost_final.corr()[['complexity_score']].sort_values('complexity_score', ascending=False), annot=True, cmap='viridis');"
   ]
  },
  {
   "cell_type": "code",
   "execution_count": 35,
   "metadata": {},
   "outputs": [
    {
     "data": {
      "image/png": "[encoded data removed]",
      "text/plain": [
       "<Figure size 432x288 with 1 Axes>"
      ]
     },
     "metadata": {
      "needs_background": "light"
     },
     "output_type": "display_data"
    }
   ],
   "source": [
    "#Scatter plot to see relation between Retail and Carats\n",
    "df_cost_final.plot(kind='scatter', x = 'complexity_score', y='optimal_fit_on_hp_build_plate');"
   ]
  },
  {
   "cell_type": "code",
   "execution_count": 36,
   "metadata": {},
   "outputs": [
    {
     "data": {
      "image/png": "[encoded data removed]",
      "text/plain": [
       "<Figure size 432x288 with 1 Axes>"
      ]
     },
     "metadata": {
      "needs_background": "light"
     },
     "output_type": "display_data"
    }
   ],
   "source": [
    "#Scatter plot to see relation between Retail and Carats\n",
    "df_cost_final.plot(kind='scatter', x = 'per_unit_cost', y='volume');"
   ]
  },
  {
   "cell_type": "code",
   "execution_count": 37,
   "metadata": {},
   "outputs": [
    {
     "data": {
      "image/png": "[encoded data removed]",
      "text/plain": [
       "<Figure size 432x288 with 1 Axes>"
      ]
     },
     "metadata": {
      "needs_background": "light"
     },
     "output_type": "display_data"
    }
   ],
   "source": [
    "#Scatter plot to see relation between Retail and Carats\n",
    "df_cost_final.plot(kind='scatter', x = 'volume', y='per_unit_cost');"
   ]
  },
  {
   "cell_type": "code",
   "execution_count": 38,
   "metadata": {},
   "outputs": [
    {
     "data": {
      "image/png": "[encoded data removed]",
      "text/plain": [
       "<Figure size 576x432 with 1 Axes>"
      ]
     },
     "metadata": {
      "needs_background": "light"
     },
     "output_type": "display_data"
    }
   ],
   "source": [
    "#visual of per_unit_cost\n",
    "plt.figure(figsize = (8,6))\n",
    "df_cost_final[df_cost_final['per_unit_cost']>3000]['per_unit_cost'].hist(bins=15)\n",
    "plt.xlabel('per_unit_cost', fontsize=15)\n",
    "plt.ylabel('Frequency', fontsize=15)\n",
    "plt.title('Histogram of per_unit_cost', size = 15)\n",
    "plt.show();"
   ]
  },
  {
   "cell_type": "code",
   "execution_count": 39,
   "metadata": {},
   "outputs": [
    {
     "data": {
      "text/plain": [
       "count      798.000000\n",
       "mean       296.696604\n",
       "std        903.591082\n",
       "min          0.490000\n",
       "25%         22.737500\n",
       "50%         76.250000\n",
       "75%        255.812500\n",
       "max      18967.000000\n",
       "Name: per_unit_cost, dtype: float64"
      ]
     },
     "execution_count": 39,
     "metadata": {},
     "output_type": "execute_result"
    }
   ],
   "source": [
    "df_cost_final['per_unit_cost'].describe()"
   ]
  },
  {
   "cell_type": "code",
   "execution_count": 40,
   "metadata": {},
   "outputs": [
    {
     "data": {
      "image/png": "[encoded data removed]",
      "text/plain": [
       "<Figure size 576x432 with 1 Axes>"
      ]
     },
     "metadata": {
      "needs_background": "light"
     },
     "output_type": "display_data"
    }
   ],
   "source": [
    "#visual of per_unit_cost\n",
    "plt.figure(figsize = (8,6))\n",
    "df_cost_final[df_cost_final['volume']>30000]['volume'].hist(bins=15)\n",
    "plt.xlabel('volume', fontsize=15)\n",
    "plt.ylabel('Frequency', fontsize=15)\n",
    "plt.title('Histogram of volume', size = 15)\n",
    "plt.show();"
   ]
  },
  {
   "cell_type": "code",
   "execution_count": 41,
   "metadata": {},
   "outputs": [
    {
     "data": {
      "image/png": "[encoded data removed]",
      "text/plain": [
       "<Figure size 576x432 with 1 Axes>"
      ]
     },
     "metadata": {
      "needs_background": "light"
     },
     "output_type": "display_data"
    }
   ],
   "source": [
    "#visual of per_unit_cost\n",
    "plt.figure(figsize = (8,6))\n",
    "df_cost_final[df_cost_final['complexity_score']>6]['per_unit_cost'].hist(bins=15)\n",
    "plt.xlabel('complexity_score', fontsize=15)\n",
    "plt.ylabel('Frequency', fontsize=15)\n",
    "plt.title('Histogram of complexity_score', size = 15)\n",
    "plt.show();"
   ]
  },
  {
   "cell_type": "markdown",
   "metadata": {},
   "source": [
    "## Part-3:  Model Prediction"
   ]
  },
  {
   "cell_type": "markdown",
   "metadata": {},
   "source": [
    "### Model-1: Linear Regression"
   ]
  },
  {
   "cell_type": "code",
   "execution_count": 42,
   "metadata": {},
   "outputs": [
    {
     "name": "stdout",
     "output_type": "stream",
     "text": [
      "<class 'pandas.core.frame.DataFrame'>\n",
      "Int64Index: 798 entries, 0 to 1015\n",
      "Data columns (total 11 columns):\n",
      " #   Column                         Non-Null Count  Dtype  \n",
      "---  ------                         --------------  -----  \n",
      " 0   material                       798 non-null    object \n",
      " 1   per_unit_cost                  798 non-null    float64\n",
      " 2   quantity                       798 non-null    int64  \n",
      " 3   complexity_score               798 non-null    float64\n",
      " 4   surface_area                   798 non-null    float64\n",
      " 5   bounding_box_volume            798 non-null    float64\n",
      " 6   volume                         798 non-null    float64\n",
      " 7   max_x_length                   798 non-null    float64\n",
      " 8   max_y_length                   798 non-null    float64\n",
      " 9   max_z_length                   798 non-null    float64\n",
      " 10  optimal_fit_on_hp_build_plate  798 non-null    float64\n",
      "dtypes: float64(9), int64(1), object(1)\n",
      "memory usage: 74.8+ KB\n"
     ]
    }
   ],
   "source": [
    "df_cost_final.info()"
   ]
  },
  {
   "cell_type": "code",
   "execution_count": 43,
   "metadata": {},
   "outputs": [
    {
     "data": {
      "text/html": [
       "<div>\n",
       "<style scoped>\n",
       "    .dataframe tbody tr th:only-of-type {\n",
       "        vertical-align: middle;\n",
       "    }\n",
       "\n",
       "    .dataframe tbody tr th {\n",
       "        vertical-align: top;\n",
       "    }\n",
       "\n",
       "    .dataframe thead th {\n",
       "        text-align: right;\n",
       "    }\n",
       "</style>\n",
       "<table border=\"1\" class=\"dataframe\">\n",
       "  <thead>\n",
       "    <tr style=\"text-align: right;\">\n",
       "      <th></th>\n",
       "      <th>quantity</th>\n",
       "      <th>complexity_score</th>\n",
       "      <th>surface_area</th>\n",
       "      <th>bounding_box_volume</th>\n",
       "      <th>volume</th>\n",
       "      <th>max_x_length</th>\n",
       "      <th>max_y_length</th>\n",
       "      <th>max_z_length</th>\n",
       "      <th>optimal_fit_on_hp_build_plate</th>\n",
       "    </tr>\n",
       "  </thead>\n",
       "  <tbody>\n",
       "    <tr>\n",
       "      <th>0</th>\n",
       "      <td>0.698135</td>\n",
       "      <td>2.192888</td>\n",
       "      <td>3.430078</td>\n",
       "      <td>3.080228</td>\n",
       "      <td>0.876353</td>\n",
       "      <td>2.007011</td>\n",
       "      <td>0.855448</td>\n",
       "      <td>0.230884</td>\n",
       "      <td>6.952738</td>\n",
       "    </tr>\n",
       "    <tr>\n",
       "      <th>1</th>\n",
       "      <td>1.101940</td>\n",
       "      <td>2.212515</td>\n",
       "      <td>7.060567</td>\n",
       "      <td>5.808156</td>\n",
       "      <td>3.991361</td>\n",
       "      <td>2.948081</td>\n",
       "      <td>2.725233</td>\n",
       "      <td>0.144678</td>\n",
       "      <td>3.828859</td>\n",
       "    </tr>\n",
       "    <tr>\n",
       "      <th>2</th>\n",
       "      <td>1.101940</td>\n",
       "      <td>2.066169</td>\n",
       "      <td>7.350279</td>\n",
       "      <td>6.478918</td>\n",
       "      <td>4.372858</td>\n",
       "      <td>3.135906</td>\n",
       "      <td>2.954358</td>\n",
       "      <td>0.396340</td>\n",
       "      <td>3.434310</td>\n",
       "    </tr>\n",
       "    <tr>\n",
       "      <th>3</th>\n",
       "      <td>1.101940</td>\n",
       "      <td>2.292749</td>\n",
       "      <td>7.085399</td>\n",
       "      <td>5.909349</td>\n",
       "      <td>4.025814</td>\n",
       "      <td>2.948081</td>\n",
       "      <td>2.725201</td>\n",
       "      <td>0.245073</td>\n",
       "      <td>3.784417</td>\n",
       "    </tr>\n",
       "    <tr>\n",
       "      <th>4</th>\n",
       "      <td>2.303585</td>\n",
       "      <td>2.165026</td>\n",
       "      <td>3.676111</td>\n",
       "      <td>3.019319</td>\n",
       "      <td>1.651437</td>\n",
       "      <td>1.372956</td>\n",
       "      <td>1.627028</td>\n",
       "      <td>0.033067</td>\n",
       "      <td>6.173807</td>\n",
       "    </tr>\n",
       "  </tbody>\n",
       "</table>\n",
       "</div>"
      ],
      "text/plain": [
       "   quantity  complexity_score  surface_area  bounding_box_volume    volume  \\\n",
       "0  0.698135          2.192888      3.430078             3.080228  0.876353   \n",
       "1  1.101940          2.212515      7.060567             5.808156  3.991361   \n",
       "2  1.101940          2.066169      7.350279             6.478918  4.372858   \n",
       "3  1.101940          2.292749      7.085399             5.909349  4.025814   \n",
       "4  2.303585          2.165026      3.676111             3.019319  1.651437   \n",
       "\n",
       "   max_x_length  max_y_length  max_z_length  optimal_fit_on_hp_build_plate  \n",
       "0      2.007011      0.855448      0.230884                       6.952738  \n",
       "1      2.948081      2.725233      0.144678                       3.828859  \n",
       "2      3.135906      2.954358      0.396340                       3.434310  \n",
       "3      2.948081      2.725201      0.245073                       3.784417  \n",
       "4      1.372956      1.627028      0.033067                       6.173807  "
      ]
     },
     "execution_count": 43,
     "metadata": {},
     "output_type": "execute_result"
    }
   ],
   "source": [
    "features = ['quantity', 'complexity_score', 'surface_area', 'bounding_box_volume', 'volume', 'max_x_length', 'max_y_length', 'max_z_length', 'optimal_fit_on_hp_build_plate'] # Create a list with features\n",
    "X = df_cost_final_log[features] # Create the X (feature matrix)\n",
    "X.head()"
   ]
  },
  {
   "cell_type": "code",
   "execution_count": 44,
   "metadata": {},
   "outputs": [],
   "source": [
    "y = df_cost_final_log['per_unit_cost']"
   ]
  },
  {
   "cell_type": "code",
   "execution_count": 45,
   "metadata": {},
   "outputs": [
    {
     "name": "stdout",
     "output_type": "stream",
     "text": [
      "Features matrix: (798, 9)\n",
      "Target vector: (798,)\n",
      "Full dataset: (798, 10)\n"
     ]
    }
   ],
   "source": [
    "print(f\"Features matrix: {X.shape}\")\n",
    "print(f\"Target vector: {y.shape}\")\n",
    "print(f\"Full dataset: {df_cost_final_log.shape}\")"
   ]
  },
  {
   "cell_type": "code",
   "execution_count": 46,
   "metadata": {},
   "outputs": [
    {
     "data": {
      "text/html": [
       "<div>\n",
       "<style scoped>\n",
       "    .dataframe tbody tr th:only-of-type {\n",
       "        vertical-align: middle;\n",
       "    }\n",
       "\n",
       "    .dataframe tbody tr th {\n",
       "        vertical-align: top;\n",
       "    }\n",
       "\n",
       "    .dataframe thead th {\n",
       "        text-align: right;\n",
       "    }\n",
       "</style>\n",
       "<table border=\"1\" class=\"dataframe\">\n",
       "  <thead>\n",
       "    <tr style=\"text-align: right;\">\n",
       "      <th></th>\n",
       "      <th>quantity</th>\n",
       "      <th>complexity_score</th>\n",
       "      <th>surface_area</th>\n",
       "      <th>bounding_box_volume</th>\n",
       "      <th>volume</th>\n",
       "      <th>max_x_length</th>\n",
       "      <th>max_y_length</th>\n",
       "      <th>max_z_length</th>\n",
       "      <th>optimal_fit_on_hp_build_plate</th>\n",
       "    </tr>\n",
       "  </thead>\n",
       "  <tbody>\n",
       "    <tr>\n",
       "      <th>428</th>\n",
       "      <td>2.996232</td>\n",
       "      <td>2.298938</td>\n",
       "      <td>4.469274</td>\n",
       "      <td>4.772279</td>\n",
       "      <td>2.236737</td>\n",
       "      <td>2.469878</td>\n",
       "      <td>1.193906</td>\n",
       "      <td>1.115570</td>\n",
       "      <td>5.587286</td>\n",
       "    </tr>\n",
       "    <tr>\n",
       "      <th>137</th>\n",
       "      <td>0.698135</td>\n",
       "      <td>2.197742</td>\n",
       "      <td>6.411961</td>\n",
       "      <td>6.242327</td>\n",
       "      <td>5.260479</td>\n",
       "      <td>2.594021</td>\n",
       "      <td>1.324417</td>\n",
       "      <td>2.328251</td>\n",
       "      <td>2.485740</td>\n",
       "    </tr>\n",
       "    <tr>\n",
       "      <th>72</th>\n",
       "      <td>0.009950</td>\n",
       "      <td>2.191235</td>\n",
       "      <td>2.094638</td>\n",
       "      <td>0.931360</td>\n",
       "      <td>-1.290335</td>\n",
       "      <td>1.210864</td>\n",
       "      <td>1.085858</td>\n",
       "      <td>-1.324616</td>\n",
       "      <td>9.152394</td>\n",
       "    </tr>\n",
       "    <tr>\n",
       "      <th>77</th>\n",
       "      <td>2.080691</td>\n",
       "      <td>-4.605170</td>\n",
       "      <td>5.120538</td>\n",
       "      <td>5.259042</td>\n",
       "      <td>4.348343</td>\n",
       "      <td>1.932312</td>\n",
       "      <td>1.384174</td>\n",
       "      <td>1.947884</td>\n",
       "      <td>3.466048</td>\n",
       "    </tr>\n",
       "    <tr>\n",
       "      <th>538</th>\n",
       "      <td>0.009950</td>\n",
       "      <td>1.793105</td>\n",
       "      <td>13.068734</td>\n",
       "      <td>16.218960</td>\n",
       "      <td>15.018303</td>\n",
       "      <td>6.635960</td>\n",
       "      <td>6.635960</td>\n",
       "      <td>2.947592</td>\n",
       "      <td>-4.605170</td>\n",
       "    </tr>\n",
       "  </tbody>\n",
       "</table>\n",
       "</div>"
      ],
      "text/plain": [
       "     quantity  complexity_score  surface_area  bounding_box_volume     volume  \\\n",
       "428  2.996232          2.298938      4.469274             4.772279   2.236737   \n",
       "137  0.698135          2.197742      6.411961             6.242327   5.260479   \n",
       "72   0.009950          2.191235      2.094638             0.931360  -1.290335   \n",
       "77   2.080691         -4.605170      5.120538             5.259042   4.348343   \n",
       "538  0.009950          1.793105     13.068734            16.218960  15.018303   \n",
       "\n",
       "     max_x_length  max_y_length  max_z_length  optimal_fit_on_hp_build_plate  \n",
       "428      2.469878      1.193906      1.115570                       5.587286  \n",
       "137      2.594021      1.324417      2.328251                       2.485740  \n",
       "72       1.210864      1.085858     -1.324616                       9.152394  \n",
       "77       1.932312      1.384174      1.947884                       3.466048  \n",
       "538      6.635960      6.635960      2.947592                      -4.605170  "
      ]
     },
     "execution_count": 46,
     "metadata": {},
     "output_type": "execute_result"
    }
   ],
   "source": [
    "#train test split of the data\n",
    "X_train, X_test, y_train, y_test = train_test_split(X, y, test_size=0.1, random_state=42)\n",
    "X_train.head()"
   ]
  },
  {
   "cell_type": "code",
   "execution_count": 47,
   "metadata": {},
   "outputs": [],
   "source": [
    "from sklearn.preprocessing import StandardScaler"
   ]
  },
  {
   "cell_type": "code",
   "execution_count": 48,
   "metadata": {},
   "outputs": [],
   "source": [
    "# Scale our data.\n",
    "# Relabeling scaled data as \"Z\" is common.\n",
    "sc = StandardScaler()\n",
    "X_train_ss = sc.fit_transform(X_train)\n",
    "X_test_ss = sc.transform(X_test)"
   ]
  },
  {
   "cell_type": "code",
   "execution_count": 49,
   "metadata": {},
   "outputs": [
    {
     "data": {
      "text/plain": [
       "LinearRegression()"
      ]
     },
     "execution_count": 49,
     "metadata": {},
     "output_type": "execute_result"
    }
   ],
   "source": [
    "lr = LinearRegression() # Instantiate a LinearRegression object\n",
    "lr.fit(X_train, y_train) # Fit on TRAINING DATA ONLY!"
   ]
  },
  {
   "cell_type": "code",
   "execution_count": 50,
   "metadata": {},
   "outputs": [
    {
     "data": {
      "text/plain": [
       "0.4218640365602845"
      ]
     },
     "execution_count": 50,
     "metadata": {},
     "output_type": "execute_result"
    }
   ],
   "source": [
    "# Train score\n",
    "lr.score(X_train, y_train)"
   ]
  },
  {
   "cell_type": "code",
   "execution_count": 51,
   "metadata": {},
   "outputs": [
    {
     "data": {
      "text/plain": [
       "0.4706773643587894"
      ]
     },
     "execution_count": 51,
     "metadata": {},
     "output_type": "execute_result"
    }
   ],
   "source": [
    "# Test score\n",
    "lr.score(X_test, y_test)"
   ]
  },
  {
   "cell_type": "code",
   "execution_count": 52,
   "metadata": {},
   "outputs": [
    {
     "data": {
      "text/plain": [
       "-4.291741141289511"
      ]
     },
     "execution_count": 52,
     "metadata": {},
     "output_type": "execute_result"
    }
   ],
   "source": [
    "# standard scale mode output for train\n",
    "lr.score(X_train_ss, y_train)"
   ]
  },
  {
   "cell_type": "code",
   "execution_count": 53,
   "metadata": {},
   "outputs": [
    {
     "data": {
      "text/plain": [
       "-2.6862647995379136"
      ]
     },
     "execution_count": 53,
     "metadata": {},
     "output_type": "execute_result"
    }
   ],
   "source": [
    "# standard scale mode output for test\n",
    "lr.score(X_test_ss, y_test)"
   ]
  },
  {
   "cell_type": "code",
   "execution_count": 54,
   "metadata": {},
   "outputs": [
    {
     "data": {
      "text/plain": [
       "array([4.24186253, 5.15596629, 5.33222458, 5.19027572, 3.30354916])"
      ]
     },
     "execution_count": 54,
     "metadata": {},
     "output_type": "execute_result"
    }
   ],
   "source": [
    "# get predictions from our X data\n",
    "preds = lr.predict(X)\n",
    "preds[0:5] # print first 5 predicted values"
   ]
  },
  {
   "cell_type": "code",
   "execution_count": 55,
   "metadata": {},
   "outputs": [
    {
     "data": {
      "text/plain": [
       "0   -0.818252\n",
       "1    1.312338\n",
       "2    1.416828\n",
       "3    1.269253\n",
       "4    0.853614\n",
       "5    0.209485\n",
       "6   -0.716239\n",
       "7   -0.730316\n",
       "8   -0.317100\n",
       "9    1.170943\n",
       "Name: per_unit_cost, dtype: float64"
      ]
     },
     "execution_count": 55,
     "metadata": {},
     "output_type": "execute_result"
    }
   ],
   "source": [
    "# calculate residuals\n",
    "residuals = y - preds\n",
    "residuals[0:10]"
   ]
  },
  {
   "cell_type": "code",
   "execution_count": 56,
   "metadata": {},
   "outputs": [
    {
     "data": {
      "text/plain": [
       "-0.023414582877851812"
      ]
     },
     "execution_count": 56,
     "metadata": {},
     "output_type": "execute_result"
    }
   ],
   "source": [
    "# mean of residuals\n",
    "np.mean(residuals)"
   ]
  },
  {
   "cell_type": "code",
   "execution_count": 57,
   "metadata": {},
   "outputs": [
    {
     "data": {
      "image/png": "[encoded data removed]",
      "text/plain": [
       "<Figure size 432x288 with 1 Axes>"
      ]
     },
     "metadata": {
      "needs_background": "light"
     },
     "output_type": "display_data"
    }
   ],
   "source": [
    "# Normality assumption\n",
    "plt.hist(residuals, bins=20);"
   ]
  },
  {
   "cell_type": "code",
   "execution_count": 58,
   "metadata": {},
   "outputs": [
    {
     "data": {
      "image/png": "[encoded data removed]",
      "text/plain": [
       "<Figure size 432x288 with 1 Axes>"
      ]
     },
     "metadata": {
      "needs_background": "light"
     },
     "output_type": "display_data"
    }
   ],
   "source": [
    "# Use np.random.randn to show what we expect in a residual plot\n",
    "# create fake residuals\n",
    "e_fake = np.random.randn(df_cost_final.shape[0])\n",
    "plt.scatter(preds, e_fake)\n",
    "plt.axhline(0, color='orange');"
   ]
  },
  {
   "cell_type": "code",
   "execution_count": 59,
   "metadata": {},
   "outputs": [
    {
     "data": {
      "image/png": "[encoded data removed]",
      "text/plain": [
       "<Figure size 432x288 with 1 Axes>"
      ]
     },
     "metadata": {
      "needs_background": "light"
     },
     "output_type": "display_data"
    }
   ],
   "source": [
    "# Let's plot our residuals - check the L and E assumptions\n",
    "plt.scatter(preds, residuals)\n",
    "plt.axhline(0, color='red');"
   ]
  },
  {
   "cell_type": "code",
   "execution_count": 60,
   "metadata": {},
   "outputs": [
    {
     "data": {
      "text/plain": [
       "1.0506231583733425"
      ]
     },
     "execution_count": 60,
     "metadata": {},
     "output_type": "execute_result"
    }
   ],
   "source": [
    "# Calcuate MAE by hand\n",
    "np.abs(residuals).mean()"
   ]
  },
  {
   "cell_type": "code",
   "execution_count": 61,
   "metadata": {},
   "outputs": [
    {
     "data": {
      "text/plain": [
       "1.0506231583733419"
      ]
     },
     "execution_count": 61,
     "metadata": {},
     "output_type": "execute_result"
    }
   ],
   "source": [
    "# Via sklearn.metrics\n",
    "metrics.mean_absolute_error(y, preds)"
   ]
  },
  {
   "cell_type": "code",
   "execution_count": 62,
   "metadata": {},
   "outputs": [
    {
     "data": {
      "text/plain": [
       "1445.9766273053028"
      ]
     },
     "execution_count": 62,
     "metadata": {},
     "output_type": "execute_result"
    }
   ],
   "source": [
    "# Calculate RSS by hand\n",
    "sse = (residuals**2).sum()\n",
    "sse"
   ]
  },
  {
   "cell_type": "code",
   "execution_count": 63,
   "metadata": {},
   "outputs": [
    {
     "data": {
      "text/plain": [
       "1.8120007860968708"
      ]
     },
     "execution_count": 63,
     "metadata": {},
     "output_type": "execute_result"
    }
   ],
   "source": [
    "# MSE by hand\n",
    "sse / len(residuals)"
   ]
  },
  {
   "cell_type": "code",
   "execution_count": 64,
   "metadata": {},
   "outputs": [
    {
     "data": {
      "text/plain": [
       "1.8120007860968708"
      ]
     },
     "execution_count": 64,
     "metadata": {},
     "output_type": "execute_result"
    }
   ],
   "source": [
    "# MSE using sklearn\n",
    "metrics.mean_squared_error(y_true=y, y_pred=preds)"
   ]
  },
  {
   "cell_type": "code",
   "execution_count": 65,
   "metadata": {},
   "outputs": [
    {
     "data": {
      "text/plain": [
       "1.3461057856264012"
      ]
     },
     "execution_count": 65,
     "metadata": {},
     "output_type": "execute_result"
    }
   ],
   "source": [
    "# RMSE\n",
    "metrics.mean_squared_error(y_true=y, y_pred=preds, squared=False) # squared=False gives us RMSE"
   ]
  },
  {
   "cell_type": "code",
   "execution_count": 66,
   "metadata": {},
   "outputs": [
    {
     "data": {
      "text/plain": [
       "1.3461057856264012"
      ]
     },
     "execution_count": 66,
     "metadata": {},
     "output_type": "execute_result"
    }
   ],
   "source": [
    "# RMSE with np.sqrt of metrics.mean_squared_error\n",
    "np.sqrt(metrics.mean_squared_error(y, preds))"
   ]
  },
  {
   "cell_type": "code",
   "execution_count": 67,
   "metadata": {},
   "outputs": [
    {
     "name": "stdout",
     "output_type": "stream",
     "text": [
      "Training R-Squared: -4.291741141289511\n",
      " \n",
      "Testing R-Squared: -2.6862647995379136\n"
     ]
    }
   ],
   "source": [
    "# How does the model score on the training and test data?\n",
    "print(f\"Training R-Squared: {lr.score(X_train_ss, y_train)}\")\n",
    "print(\" \")\n",
    "print(f\"Testing R-Squared: {lr.score(X_test_ss, y_test)}\")"
   ]
  },
  {
   "cell_type": "markdown",
   "metadata": {},
   "source": [
    "### Model-2: Polynomial Features"
   ]
  },
  {
   "cell_type": "code",
   "execution_count": 68,
   "metadata": {},
   "outputs": [],
   "source": [
    "from sklearn.preprocessing import PolynomialFeatures\n",
    "\n",
    "# Instantiate our PolynomialFeatures object to create all two-way terms.\n",
    "poly = PolynomialFeatures(degree=2, interaction_only=False, include_bias=False)\n",
    "\n",
    "# Fit and transform our X data.\n",
    "X_overfit = poly.fit_transform(X)"
   ]
  },
  {
   "cell_type": "code",
   "execution_count": 69,
   "metadata": {},
   "outputs": [
    {
     "data": {
      "text/plain": [
       "(798, 54)"
      ]
     },
     "execution_count": 69,
     "metadata": {},
     "output_type": "execute_result"
    }
   ],
   "source": [
    "# Check out the dimensions of X_overfit.\n",
    "X_overfit.shape"
   ]
  },
  {
   "cell_type": "code",
   "execution_count": 70,
   "metadata": {},
   "outputs": [],
   "source": [
    "# Import train_test_split.\n",
    "from sklearn.model_selection import train_test_split\n",
    "from sklearn.preprocessing import StandardScaler"
   ]
  },
  {
   "cell_type": "code",
   "execution_count": 71,
   "metadata": {},
   "outputs": [],
   "source": [
    "# Create train/test splits.\n",
    "X_train, X_test, y_train, y_test = train_test_split(\n",
    "    X_overfit,\n",
    "    y,\n",
    "    test_size=0.1, # Making sure that I have much LESS for training so we'll overfit\n",
    "    random_state=42\n",
    ")"
   ]
  },
  {
   "cell_type": "code",
   "execution_count": 72,
   "metadata": {},
   "outputs": [],
   "source": [
    "# Scale our data.\n",
    "# Relabeling scaled data as \"Z\" is common.\n",
    "sc = StandardScaler()\n",
    "Z_train = sc.fit_transform(X_train)\n",
    "Z_test = sc.transform(X_test)"
   ]
  },
  {
   "cell_type": "code",
   "execution_count": 73,
   "metadata": {},
   "outputs": [
    {
     "data": {
      "text/plain": [
       "LinearRegression()"
      ]
     },
     "execution_count": 73,
     "metadata": {},
     "output_type": "execute_result"
    }
   ],
   "source": [
    "ols = LinearRegression()\n",
    "ols.fit(Z_train, y_train) # Fit on the SCALED data"
   ]
  },
  {
   "cell_type": "code",
   "execution_count": 74,
   "metadata": {},
   "outputs": [
    {
     "name": "stdout",
     "output_type": "stream",
     "text": [
      "Training R-Squared: 0.7125131167248624\n",
      " \n",
      "Testing R-Squared: 0.6899689797536661\n"
     ]
    }
   ],
   "source": [
    "# How does the model score on the training and test data?\n",
    "print(f\"Training R-Squared: {ols.score(Z_train, y_train)}\")\n",
    "print(\" \")\n",
    "print(f\"Testing R-Squared: {ols.score(Z_test, y_test)}\")"
   ]
  },
  {
   "cell_type": "markdown",
   "metadata": {},
   "source": [
    "### Model-3: Ridge"
   ]
  },
  {
   "cell_type": "code",
   "execution_count": 75,
   "metadata": {},
   "outputs": [],
   "source": [
    "# Ridge regressor lives here:\n",
    "from sklearn.linear_model import Ridge"
   ]
  },
  {
   "cell_type": "code",
   "execution_count": 76,
   "metadata": {},
   "outputs": [
    {
     "name": "stdout",
     "output_type": "stream",
     "text": [
      "Ridge Training R-Squared: 0.549596109433391\n",
      "Ridge Testing R-Squared: 0.5565846121915214\n"
     ]
    }
   ],
   "source": [
    "# Instantiate.\n",
    "ridge = Ridge(alpha=10.0)\n",
    "\n",
    "# Fit.\n",
    "ridge.fit(Z_train, y_train)\n",
    "\n",
    "# Evaluate model using R2.\n",
    "print(f\"Ridge Training R-Squared: {ridge.score(Z_train, y_train)}\")\n",
    "print(f\"Ridge Testing R-Squared: {ridge.score(Z_test, y_test)}\")"
   ]
  },
  {
   "cell_type": "markdown",
   "metadata": {},
   "source": [
    "### Model-4: Lasso"
   ]
  },
  {
   "cell_type": "code",
   "execution_count": 77,
   "metadata": {},
   "outputs": [],
   "source": [
    "# Imports similar to Ridge\n",
    "from sklearn.linear_model import Lasso, LassoCV"
   ]
  },
  {
   "cell_type": "code",
   "execution_count": 78,
   "metadata": {},
   "outputs": [
    {
     "name": "stderr",
     "output_type": "stream",
     "text": [
      "/Users/tahir/opt/anaconda3/lib/python3.8/site-packages/sklearn/linear_model/_coordinate_descent.py:525: ConvergenceWarning: Objective did not converge. You might want to increase the number of iterations. Duality gap: 0.25624276775090493, tolerance: 0.1772726665939066\n",
      "  model = cd_fast.enet_coordinate_descent_gram(\n",
      "/Users/tahir/opt/anaconda3/lib/python3.8/site-packages/sklearn/linear_model/_coordinate_descent.py:525: ConvergenceWarning: Objective did not converge. You might want to increase the number of iterations. Duality gap: 0.18279358101437992, tolerance: 0.1772726665939066\n",
      "  model = cd_fast.enet_coordinate_descent_gram(\n",
      "/Users/tahir/opt/anaconda3/lib/python3.8/site-packages/sklearn/linear_model/_coordinate_descent.py:525: ConvergenceWarning: Objective did not converge. You might want to increase the number of iterations. Duality gap: 0.4242454902725967, tolerance: 0.1772726665939066\n",
      "  model = cd_fast.enet_coordinate_descent_gram(\n",
      "/Users/tahir/opt/anaconda3/lib/python3.8/site-packages/sklearn/linear_model/_coordinate_descent.py:525: ConvergenceWarning: Objective did not converge. You might want to increase the number of iterations. Duality gap: 0.5852467135165398, tolerance: 0.1772726665939066\n",
      "  model = cd_fast.enet_coordinate_descent_gram(\n",
      "/Users/tahir/opt/anaconda3/lib/python3.8/site-packages/sklearn/linear_model/_coordinate_descent.py:525: ConvergenceWarning: Objective did not converge. You might want to increase the number of iterations. Duality gap: 0.7248930300910388, tolerance: 0.1772726665939066\n",
      "  model = cd_fast.enet_coordinate_descent_gram(\n",
      "/Users/tahir/opt/anaconda3/lib/python3.8/site-packages/sklearn/linear_model/_coordinate_descent.py:525: ConvergenceWarning: Objective did not converge. You might want to increase the number of iterations. Duality gap: 0.37827560069388255, tolerance: 0.1772726665939066\n",
      "  model = cd_fast.enet_coordinate_descent_gram(\n",
      "/Users/tahir/opt/anaconda3/lib/python3.8/site-packages/sklearn/linear_model/_coordinate_descent.py:525: ConvergenceWarning: Objective did not converge. You might want to increase the number of iterations. Duality gap: 0.43619784816587526, tolerance: 0.1772726665939066\n",
      "  model = cd_fast.enet_coordinate_descent_gram(\n",
      "/Users/tahir/opt/anaconda3/lib/python3.8/site-packages/sklearn/linear_model/_coordinate_descent.py:525: ConvergenceWarning: Objective did not converge. You might want to increase the number of iterations. Duality gap: 0.9144483817365199, tolerance: 0.1772726665939066\n",
      "  model = cd_fast.enet_coordinate_descent_gram(\n",
      "/Users/tahir/opt/anaconda3/lib/python3.8/site-packages/sklearn/linear_model/_coordinate_descent.py:525: ConvergenceWarning: Objective did not converge. You might want to increase the number of iterations. Duality gap: 2.461612394505323, tolerance: 0.1772726665939066\n",
      "  model = cd_fast.enet_coordinate_descent_gram(\n",
      "/Users/tahir/opt/anaconda3/lib/python3.8/site-packages/sklearn/linear_model/_coordinate_descent.py:525: ConvergenceWarning: Objective did not converge. You might want to increase the number of iterations. Duality gap: 6.7284622256968305, tolerance: 0.1772726665939066\n",
      "  model = cd_fast.enet_coordinate_descent_gram(\n",
      "/Users/tahir/opt/anaconda3/lib/python3.8/site-packages/sklearn/linear_model/_coordinate_descent.py:525: ConvergenceWarning: Objective did not converge. You might want to increase the number of iterations. Duality gap: 8.169040021311275, tolerance: 0.1772726665939066\n",
      "  model = cd_fast.enet_coordinate_descent_gram(\n",
      "/Users/tahir/opt/anaconda3/lib/python3.8/site-packages/sklearn/linear_model/_coordinate_descent.py:525: ConvergenceWarning: Objective did not converge. You might want to increase the number of iterations. Duality gap: 12.111189905618176, tolerance: 0.1772726665939066\n",
      "  model = cd_fast.enet_coordinate_descent_gram(\n",
      "/Users/tahir/opt/anaconda3/lib/python3.8/site-packages/sklearn/linear_model/_coordinate_descent.py:525: ConvergenceWarning: Objective did not converge. You might want to increase the number of iterations. Duality gap: 15.194896310716672, tolerance: 0.1772726665939066\n",
      "  model = cd_fast.enet_coordinate_descent_gram(\n",
      "/Users/tahir/opt/anaconda3/lib/python3.8/site-packages/sklearn/linear_model/_coordinate_descent.py:525: ConvergenceWarning: Objective did not converge. You might want to increase the number of iterations. Duality gap: 17.285818293537773, tolerance: 0.1772726665939066\n",
      "  model = cd_fast.enet_coordinate_descent_gram(\n",
      "/Users/tahir/opt/anaconda3/lib/python3.8/site-packages/sklearn/linear_model/_coordinate_descent.py:525: ConvergenceWarning: Objective did not converge. You might want to increase the number of iterations. Duality gap: 15.58599374802759, tolerance: 0.1772726665939066\n",
      "  model = cd_fast.enet_coordinate_descent_gram(\n",
      "/Users/tahir/opt/anaconda3/lib/python3.8/site-packages/sklearn/linear_model/_coordinate_descent.py:525: ConvergenceWarning: Objective did not converge. You might want to increase the number of iterations. Duality gap: 16.542189872558538, tolerance: 0.1772726665939066\n",
      "  model = cd_fast.enet_coordinate_descent_gram(\n",
      "/Users/tahir/opt/anaconda3/lib/python3.8/site-packages/sklearn/linear_model/_coordinate_descent.py:525: ConvergenceWarning: Objective did not converge. You might want to increase the number of iterations. Duality gap: 15.908453075709417, tolerance: 0.1772726665939066\n",
      "  model = cd_fast.enet_coordinate_descent_gram(\n",
      "/Users/tahir/opt/anaconda3/lib/python3.8/site-packages/sklearn/linear_model/_coordinate_descent.py:525: ConvergenceWarning: Objective did not converge. You might want to increase the number of iterations. Duality gap: 18.001446111538485, tolerance: 0.1772726665939066\n",
      "  model = cd_fast.enet_coordinate_descent_gram(\n",
      "/Users/tahir/opt/anaconda3/lib/python3.8/site-packages/sklearn/linear_model/_coordinate_descent.py:525: ConvergenceWarning: Objective did not converge. You might want to increase the number of iterations. Duality gap: 0.19063926491958227, tolerance: 0.17534928281198942\n",
      "  model = cd_fast.enet_coordinate_descent_gram(\n",
      "/Users/tahir/opt/anaconda3/lib/python3.8/site-packages/sklearn/linear_model/_coordinate_descent.py:525: ConvergenceWarning: Objective did not converge. You might want to increase the number of iterations. Duality gap: 0.2110188353462945, tolerance: 0.17534928281198942\n",
      "  model = cd_fast.enet_coordinate_descent_gram(\n",
      "/Users/tahir/opt/anaconda3/lib/python3.8/site-packages/sklearn/linear_model/_coordinate_descent.py:525: ConvergenceWarning: Objective did not converge. You might want to increase the number of iterations. Duality gap: 0.21318484849564356, tolerance: 0.17534928281198942\n",
      "  model = cd_fast.enet_coordinate_descent_gram(\n",
      "/Users/tahir/opt/anaconda3/lib/python3.8/site-packages/sklearn/linear_model/_coordinate_descent.py:525: ConvergenceWarning: Objective did not converge. You might want to increase the number of iterations. Duality gap: 0.2915400618488775, tolerance: 0.17534928281198942\n",
      "  model = cd_fast.enet_coordinate_descent_gram(\n",
      "/Users/tahir/opt/anaconda3/lib/python3.8/site-packages/sklearn/linear_model/_coordinate_descent.py:525: ConvergenceWarning: Objective did not converge. You might want to increase the number of iterations. Duality gap: 0.33352446201035946, tolerance: 0.17534928281198942\n",
      "  model = cd_fast.enet_coordinate_descent_gram(\n",
      "/Users/tahir/opt/anaconda3/lib/python3.8/site-packages/sklearn/linear_model/_coordinate_descent.py:525: ConvergenceWarning: Objective did not converge. You might want to increase the number of iterations. Duality gap: 0.9422469319633819, tolerance: 0.17534928281198942\n",
      "  model = cd_fast.enet_coordinate_descent_gram(\n",
      "/Users/tahir/opt/anaconda3/lib/python3.8/site-packages/sklearn/linear_model/_coordinate_descent.py:525: ConvergenceWarning: Objective did not converge. You might want to increase the number of iterations. Duality gap: 1.962957911554554, tolerance: 0.17534928281198942\n",
      "  model = cd_fast.enet_coordinate_descent_gram(\n",
      "/Users/tahir/opt/anaconda3/lib/python3.8/site-packages/sklearn/linear_model/_coordinate_descent.py:525: ConvergenceWarning: Objective did not converge. You might want to increase the number of iterations. Duality gap: 1.6333921351000527, tolerance: 0.17534928281198942\n",
      "  model = cd_fast.enet_coordinate_descent_gram(\n",
      "/Users/tahir/opt/anaconda3/lib/python3.8/site-packages/sklearn/linear_model/_coordinate_descent.py:525: ConvergenceWarning: Objective did not converge. You might want to increase the number of iterations. Duality gap: 0.9097306916003163, tolerance: 0.17534928281198942\n",
      "  model = cd_fast.enet_coordinate_descent_gram(\n",
      "/Users/tahir/opt/anaconda3/lib/python3.8/site-packages/sklearn/linear_model/_coordinate_descent.py:525: ConvergenceWarning: Objective did not converge. You might want to increase the number of iterations. Duality gap: 0.9111031277254824, tolerance: 0.17534928281198942\n",
      "  model = cd_fast.enet_coordinate_descent_gram(\n",
      "/Users/tahir/opt/anaconda3/lib/python3.8/site-packages/sklearn/linear_model/_coordinate_descent.py:525: ConvergenceWarning: Objective did not converge. You might want to increase the number of iterations. Duality gap: 1.3285689416005653, tolerance: 0.17534928281198942\n",
      "  model = cd_fast.enet_coordinate_descent_gram(\n",
      "/Users/tahir/opt/anaconda3/lib/python3.8/site-packages/sklearn/linear_model/_coordinate_descent.py:525: ConvergenceWarning: Objective did not converge. You might want to increase the number of iterations. Duality gap: 3.056206548505429, tolerance: 0.17534928281198942\n",
      "  model = cd_fast.enet_coordinate_descent_gram(\n",
      "/Users/tahir/opt/anaconda3/lib/python3.8/site-packages/sklearn/linear_model/_coordinate_descent.py:525: ConvergenceWarning: Objective did not converge. You might want to increase the number of iterations. Duality gap: 4.737280319093202, tolerance: 0.17534928281198942\n",
      "  model = cd_fast.enet_coordinate_descent_gram(\n",
      "/Users/tahir/opt/anaconda3/lib/python3.8/site-packages/sklearn/linear_model/_coordinate_descent.py:525: ConvergenceWarning: Objective did not converge. You might want to increase the number of iterations. Duality gap: 11.365075738316023, tolerance: 0.17534928281198942\n",
      "  model = cd_fast.enet_coordinate_descent_gram(\n",
      "/Users/tahir/opt/anaconda3/lib/python3.8/site-packages/sklearn/linear_model/_coordinate_descent.py:525: ConvergenceWarning: Objective did not converge. You might want to increase the number of iterations. Duality gap: 17.760429633302124, tolerance: 0.17534928281198942\n",
      "  model = cd_fast.enet_coordinate_descent_gram(\n",
      "/Users/tahir/opt/anaconda3/lib/python3.8/site-packages/sklearn/linear_model/_coordinate_descent.py:525: ConvergenceWarning: Objective did not converge. You might want to increase the number of iterations. Duality gap: 21.28175098770589, tolerance: 0.17534928281198942\n",
      "  model = cd_fast.enet_coordinate_descent_gram(\n",
      "/Users/tahir/opt/anaconda3/lib/python3.8/site-packages/sklearn/linear_model/_coordinate_descent.py:525: ConvergenceWarning: Objective did not converge. You might want to increase the number of iterations. Duality gap: 27.60909713985768, tolerance: 0.17534928281198942\n",
      "  model = cd_fast.enet_coordinate_descent_gram(\n",
      "/Users/tahir/opt/anaconda3/lib/python3.8/site-packages/sklearn/linear_model/_coordinate_descent.py:525: ConvergenceWarning: Objective did not converge. You might want to increase the number of iterations. Duality gap: 42.0599250699222, tolerance: 0.17534928281198942\n",
      "  model = cd_fast.enet_coordinate_descent_gram(\n",
      "/Users/tahir/opt/anaconda3/lib/python3.8/site-packages/sklearn/linear_model/_coordinate_descent.py:525: ConvergenceWarning: Objective did not converge. You might want to increase the number of iterations. Duality gap: 48.6437624620163, tolerance: 0.17534928281198942\n",
      "  model = cd_fast.enet_coordinate_descent_gram(\n",
      "/Users/tahir/opt/anaconda3/lib/python3.8/site-packages/sklearn/linear_model/_coordinate_descent.py:525: ConvergenceWarning: Objective did not converge. You might want to increase the number of iterations. Duality gap: 0.262792251854421, tolerance: 0.18488201561976914\n",
      "  model = cd_fast.enet_coordinate_descent_gram(\n",
      "/Users/tahir/opt/anaconda3/lib/python3.8/site-packages/sklearn/linear_model/_coordinate_descent.py:525: ConvergenceWarning: Objective did not converge. You might want to increase the number of iterations. Duality gap: 0.29263931928778675, tolerance: 0.18488201561976914\n",
      "  model = cd_fast.enet_coordinate_descent_gram(\n",
      "/Users/tahir/opt/anaconda3/lib/python3.8/site-packages/sklearn/linear_model/_coordinate_descent.py:525: ConvergenceWarning: Objective did not converge. You might want to increase the number of iterations. Duality gap: 0.3006280884851549, tolerance: 0.18488201561976914\n",
      "  model = cd_fast.enet_coordinate_descent_gram(\n",
      "/Users/tahir/opt/anaconda3/lib/python3.8/site-packages/sklearn/linear_model/_coordinate_descent.py:525: ConvergenceWarning: Objective did not converge. You might want to increase the number of iterations. Duality gap: 0.33197693330930633, tolerance: 0.18488201561976914\n",
      "  model = cd_fast.enet_coordinate_descent_gram(\n",
      "/Users/tahir/opt/anaconda3/lib/python3.8/site-packages/sklearn/linear_model/_coordinate_descent.py:525: ConvergenceWarning: Objective did not converge. You might want to increase the number of iterations. Duality gap: 0.3746420242673594, tolerance: 0.18488201561976914\n",
      "  model = cd_fast.enet_coordinate_descent_gram(\n",
      "/Users/tahir/opt/anaconda3/lib/python3.8/site-packages/sklearn/linear_model/_coordinate_descent.py:525: ConvergenceWarning: Objective did not converge. You might want to increase the number of iterations. Duality gap: 1.5371315971186732, tolerance: 0.18488201561976914\n",
      "  model = cd_fast.enet_coordinate_descent_gram(\n",
      "/Users/tahir/opt/anaconda3/lib/python3.8/site-packages/sklearn/linear_model/_coordinate_descent.py:525: ConvergenceWarning: Objective did not converge. You might want to increase the number of iterations. Duality gap: 4.965672920552379, tolerance: 0.18488201561976914\n",
      "  model = cd_fast.enet_coordinate_descent_gram(\n",
      "/Users/tahir/opt/anaconda3/lib/python3.8/site-packages/sklearn/linear_model/_coordinate_descent.py:525: ConvergenceWarning: Objective did not converge. You might want to increase the number of iterations. Duality gap: 7.7418377786841575, tolerance: 0.18488201561976914\n",
      "  model = cd_fast.enet_coordinate_descent_gram(\n",
      "/Users/tahir/opt/anaconda3/lib/python3.8/site-packages/sklearn/linear_model/_coordinate_descent.py:525: ConvergenceWarning: Objective did not converge. You might want to increase the number of iterations. Duality gap: 9.639371041739196, tolerance: 0.18488201561976914\n",
      "  model = cd_fast.enet_coordinate_descent_gram(\n",
      "/Users/tahir/opt/anaconda3/lib/python3.8/site-packages/sklearn/linear_model/_coordinate_descent.py:525: ConvergenceWarning: Objective did not converge. You might want to increase the number of iterations. Duality gap: 11.390942710884019, tolerance: 0.18488201561976914\n",
      "  model = cd_fast.enet_coordinate_descent_gram(\n",
      "/Users/tahir/opt/anaconda3/lib/python3.8/site-packages/sklearn/linear_model/_coordinate_descent.py:525: ConvergenceWarning: Objective did not converge. You might want to increase the number of iterations. Duality gap: 14.51389151618821, tolerance: 0.18488201561976914\n",
      "  model = cd_fast.enet_coordinate_descent_gram(\n",
      "/Users/tahir/opt/anaconda3/lib/python3.8/site-packages/sklearn/linear_model/_coordinate_descent.py:525: ConvergenceWarning: Objective did not converge. You might want to increase the number of iterations. Duality gap: 13.430722106153894, tolerance: 0.18488201561976914\n",
      "  model = cd_fast.enet_coordinate_descent_gram(\n",
      "/Users/tahir/opt/anaconda3/lib/python3.8/site-packages/sklearn/linear_model/_coordinate_descent.py:525: ConvergenceWarning: Objective did not converge. You might want to increase the number of iterations. Duality gap: 14.720842829019944, tolerance: 0.18488201561976914\n",
      "  model = cd_fast.enet_coordinate_descent_gram(\n",
      "/Users/tahir/opt/anaconda3/lib/python3.8/site-packages/sklearn/linear_model/_coordinate_descent.py:525: ConvergenceWarning: Objective did not converge. You might want to increase the number of iterations. Duality gap: 18.91783681538743, tolerance: 0.18488201561976914\n",
      "  model = cd_fast.enet_coordinate_descent_gram(\n",
      "/Users/tahir/opt/anaconda3/lib/python3.8/site-packages/sklearn/linear_model/_coordinate_descent.py:525: ConvergenceWarning: Objective did not converge. You might want to increase the number of iterations. Duality gap: 25.934569788507247, tolerance: 0.18488201561976914\n",
      "  model = cd_fast.enet_coordinate_descent_gram(\n",
      "/Users/tahir/opt/anaconda3/lib/python3.8/site-packages/sklearn/linear_model/_coordinate_descent.py:525: ConvergenceWarning: Objective did not converge. You might want to increase the number of iterations. Duality gap: 0.21720763529390297, tolerance: 0.18082579936057325\n",
      "  model = cd_fast.enet_coordinate_descent_gram(\n",
      "/Users/tahir/opt/anaconda3/lib/python3.8/site-packages/sklearn/linear_model/_coordinate_descent.py:525: ConvergenceWarning: Objective did not converge. You might want to increase the number of iterations. Duality gap: 0.28641366169767934, tolerance: 0.18082579936057325\n",
      "  model = cd_fast.enet_coordinate_descent_gram(\n",
      "/Users/tahir/opt/anaconda3/lib/python3.8/site-packages/sklearn/linear_model/_coordinate_descent.py:525: ConvergenceWarning: Objective did not converge. You might want to increase the number of iterations. Duality gap: 0.4741750776616982, tolerance: 0.18082579936057325\n",
      "  model = cd_fast.enet_coordinate_descent_gram(\n",
      "/Users/tahir/opt/anaconda3/lib/python3.8/site-packages/sklearn/linear_model/_coordinate_descent.py:525: ConvergenceWarning: Objective did not converge. You might want to increase the number of iterations. Duality gap: 0.534322920815157, tolerance: 0.18082579936057325\n",
      "  model = cd_fast.enet_coordinate_descent_gram(\n",
      "/Users/tahir/opt/anaconda3/lib/python3.8/site-packages/sklearn/linear_model/_coordinate_descent.py:525: ConvergenceWarning: Objective did not converge. You might want to increase the number of iterations. Duality gap: 0.5418957401411717, tolerance: 0.18082579936057325\n",
      "  model = cd_fast.enet_coordinate_descent_gram(\n",
      "/Users/tahir/opt/anaconda3/lib/python3.8/site-packages/sklearn/linear_model/_coordinate_descent.py:525: ConvergenceWarning: Objective did not converge. You might want to increase the number of iterations. Duality gap: 0.6263907056894595, tolerance: 0.18082579936057325\n",
      "  model = cd_fast.enet_coordinate_descent_gram(\n",
      "/Users/tahir/opt/anaconda3/lib/python3.8/site-packages/sklearn/linear_model/_coordinate_descent.py:525: ConvergenceWarning: Objective did not converge. You might want to increase the number of iterations. Duality gap: 1.5359137457912766, tolerance: 0.18082579936057325\n",
      "  model = cd_fast.enet_coordinate_descent_gram(\n",
      "/Users/tahir/opt/anaconda3/lib/python3.8/site-packages/sklearn/linear_model/_coordinate_descent.py:525: ConvergenceWarning: Objective did not converge. You might want to increase the number of iterations. Duality gap: 2.70254748682396, tolerance: 0.18082579936057325\n",
      "  model = cd_fast.enet_coordinate_descent_gram(\n",
      "/Users/tahir/opt/anaconda3/lib/python3.8/site-packages/sklearn/linear_model/_coordinate_descent.py:525: ConvergenceWarning: Objective did not converge. You might want to increase the number of iterations. Duality gap: 4.514597648220729, tolerance: 0.18082579936057325\n",
      "  model = cd_fast.enet_coordinate_descent_gram(\n",
      "/Users/tahir/opt/anaconda3/lib/python3.8/site-packages/sklearn/linear_model/_coordinate_descent.py:525: ConvergenceWarning: Objective did not converge. You might want to increase the number of iterations. Duality gap: 7.26550763848968, tolerance: 0.18082579936057325\n",
      "  model = cd_fast.enet_coordinate_descent_gram(\n",
      "/Users/tahir/opt/anaconda3/lib/python3.8/site-packages/sklearn/linear_model/_coordinate_descent.py:525: ConvergenceWarning: Objective did not converge. You might want to increase the number of iterations. Duality gap: 10.678799572371076, tolerance: 0.18082579936057325\n",
      "  model = cd_fast.enet_coordinate_descent_gram(\n",
      "/Users/tahir/opt/anaconda3/lib/python3.8/site-packages/sklearn/linear_model/_coordinate_descent.py:525: ConvergenceWarning: Objective did not converge. You might want to increase the number of iterations. Duality gap: 15.83725850750261, tolerance: 0.18082579936057325\n",
      "  model = cd_fast.enet_coordinate_descent_gram(\n",
      "/Users/tahir/opt/anaconda3/lib/python3.8/site-packages/sklearn/linear_model/_coordinate_descent.py:525: ConvergenceWarning: Objective did not converge. You might want to increase the number of iterations. Duality gap: 23.022978577444064, tolerance: 0.18082579936057325\n",
      "  model = cd_fast.enet_coordinate_descent_gram(\n",
      "/Users/tahir/opt/anaconda3/lib/python3.8/site-packages/sklearn/linear_model/_coordinate_descent.py:525: ConvergenceWarning: Objective did not converge. You might want to increase the number of iterations. Duality gap: 31.36612441546731, tolerance: 0.18082579936057325\n",
      "  model = cd_fast.enet_coordinate_descent_gram(\n",
      "/Users/tahir/opt/anaconda3/lib/python3.8/site-packages/sklearn/linear_model/_coordinate_descent.py:525: ConvergenceWarning: Objective did not converge. You might want to increase the number of iterations. Duality gap: 34.31455942745856, tolerance: 0.18082579936057325\n",
      "  model = cd_fast.enet_coordinate_descent_gram(\n",
      "/Users/tahir/opt/anaconda3/lib/python3.8/site-packages/sklearn/linear_model/_coordinate_descent.py:525: ConvergenceWarning: Objective did not converge. You might want to increase the number of iterations. Duality gap: 40.45990433811858, tolerance: 0.18082579936057325\n",
      "  model = cd_fast.enet_coordinate_descent_gram(\n",
      "/Users/tahir/opt/anaconda3/lib/python3.8/site-packages/sklearn/linear_model/_coordinate_descent.py:525: ConvergenceWarning: Objective did not converge. You might want to increase the number of iterations. Duality gap: 0.25477540804047294, tolerance: 0.17486751494159491\n",
      "  model = cd_fast.enet_coordinate_descent_gram(\n",
      "/Users/tahir/opt/anaconda3/lib/python3.8/site-packages/sklearn/linear_model/_coordinate_descent.py:525: ConvergenceWarning: Objective did not converge. You might want to increase the number of iterations. Duality gap: 0.24094368494570517, tolerance: 0.17486751494159491\n",
      "  model = cd_fast.enet_coordinate_descent_gram(\n",
      "/Users/tahir/opt/anaconda3/lib/python3.8/site-packages/sklearn/linear_model/_coordinate_descent.py:525: ConvergenceWarning: Objective did not converge. You might want to increase the number of iterations. Duality gap: 0.20540139133220237, tolerance: 0.17486751494159491\n",
      "  model = cd_fast.enet_coordinate_descent_gram(\n",
      "/Users/tahir/opt/anaconda3/lib/python3.8/site-packages/sklearn/linear_model/_coordinate_descent.py:525: ConvergenceWarning: Objective did not converge. You might want to increase the number of iterations. Duality gap: 0.18602248016895828, tolerance: 0.17486751494159491\n",
      "  model = cd_fast.enet_coordinate_descent_gram(\n",
      "/Users/tahir/opt/anaconda3/lib/python3.8/site-packages/sklearn/linear_model/_coordinate_descent.py:525: ConvergenceWarning: Objective did not converge. You might want to increase the number of iterations. Duality gap: 0.3485720916276023, tolerance: 0.17486751494159491\n",
      "  model = cd_fast.enet_coordinate_descent_gram(\n",
      "/Users/tahir/opt/anaconda3/lib/python3.8/site-packages/sklearn/linear_model/_coordinate_descent.py:525: ConvergenceWarning: Objective did not converge. You might want to increase the number of iterations. Duality gap: 0.7548707781887742, tolerance: 0.17486751494159491\n",
      "  model = cd_fast.enet_coordinate_descent_gram(\n",
      "/Users/tahir/opt/anaconda3/lib/python3.8/site-packages/sklearn/linear_model/_coordinate_descent.py:525: ConvergenceWarning: Objective did not converge. You might want to increase the number of iterations. Duality gap: 0.8924058103232255, tolerance: 0.17486751494159491\n",
      "  model = cd_fast.enet_coordinate_descent_gram(\n",
      "/Users/tahir/opt/anaconda3/lib/python3.8/site-packages/sklearn/linear_model/_coordinate_descent.py:525: ConvergenceWarning: Objective did not converge. You might want to increase the number of iterations. Duality gap: 2.4772147042913275, tolerance: 0.17486751494159491\n",
      "  model = cd_fast.enet_coordinate_descent_gram(\n",
      "/Users/tahir/opt/anaconda3/lib/python3.8/site-packages/sklearn/linear_model/_coordinate_descent.py:525: ConvergenceWarning: Objective did not converge. You might want to increase the number of iterations. Duality gap: 3.5739221049977914, tolerance: 0.17486751494159491\n",
      "  model = cd_fast.enet_coordinate_descent_gram(\n",
      "/Users/tahir/opt/anaconda3/lib/python3.8/site-packages/sklearn/linear_model/_coordinate_descent.py:525: ConvergenceWarning: Objective did not converge. You might want to increase the number of iterations. Duality gap: 4.065932041669953, tolerance: 0.17486751494159491\n",
      "  model = cd_fast.enet_coordinate_descent_gram(\n",
      "/Users/tahir/opt/anaconda3/lib/python3.8/site-packages/sklearn/linear_model/_coordinate_descent.py:525: ConvergenceWarning: Objective did not converge. You might want to increase the number of iterations. Duality gap: 4.6815605497627075, tolerance: 0.17486751494159491\n",
      "  model = cd_fast.enet_coordinate_descent_gram(\n",
      "/Users/tahir/opt/anaconda3/lib/python3.8/site-packages/sklearn/linear_model/_coordinate_descent.py:525: ConvergenceWarning: Objective did not converge. You might want to increase the number of iterations. Duality gap: 5.0960488328775, tolerance: 0.17486751494159491\n",
      "  model = cd_fast.enet_coordinate_descent_gram(\n",
      "/Users/tahir/opt/anaconda3/lib/python3.8/site-packages/sklearn/linear_model/_coordinate_descent.py:525: ConvergenceWarning: Objective did not converge. You might want to increase the number of iterations. Duality gap: 5.935381376212717, tolerance: 0.17486751494159491\n",
      "  model = cd_fast.enet_coordinate_descent_gram(\n",
      "/Users/tahir/opt/anaconda3/lib/python3.8/site-packages/sklearn/linear_model/_coordinate_descent.py:525: ConvergenceWarning: Objective did not converge. You might want to increase the number of iterations. Duality gap: 8.854812200253036, tolerance: 0.17486751494159491\n",
      "  model = cd_fast.enet_coordinate_descent_gram(\n",
      "/Users/tahir/opt/anaconda3/lib/python3.8/site-packages/sklearn/linear_model/_coordinate_descent.py:525: ConvergenceWarning: Objective did not converge. You might want to increase the number of iterations. Duality gap: 14.065361148107286, tolerance: 0.17486751494159491\n",
      "  model = cd_fast.enet_coordinate_descent_gram(\n",
      "/Users/tahir/opt/anaconda3/lib/python3.8/site-packages/sklearn/linear_model/_coordinate_descent.py:525: ConvergenceWarning: Objective did not converge. You might want to increase the number of iterations. Duality gap: 22.0650678363138, tolerance: 0.17486751494159491\n",
      "  model = cd_fast.enet_coordinate_descent_gram(\n",
      "/Users/tahir/opt/anaconda3/lib/python3.8/site-packages/sklearn/linear_model/_coordinate_descent.py:525: ConvergenceWarning: Objective did not converge. You might want to increase the number of iterations. Duality gap: 30.760943000061616, tolerance: 0.17486751494159491\n",
      "  model = cd_fast.enet_coordinate_descent_gram(\n",
      "/Users/tahir/opt/anaconda3/lib/python3.8/site-packages/sklearn/linear_model/_coordinate_descent.py:529: ConvergenceWarning: Objective did not converge. You might want to increase the number of iterations. Duality gap: 51.61232537031947, tolerance: 0.22336272976485363\n",
      "  model = cd_fast.enet_coordinate_descent(\n"
     ]
    }
   ],
   "source": [
    "# Set up a list of Lasso alphas to check.\n",
    "l_alphas = np.logspace(-3, 0, 100)\n",
    "\n",
    "# Cross-validate over our list of Lasso alphas.\n",
    "lasso_cv = LassoCV(alphas=l_alphas, cv=5)\n",
    "\n",
    "# Fit model using best ridge alpha!\n",
    "lasso_cv.fit(Z_train, y_train);"
   ]
  },
  {
   "cell_type": "code",
   "execution_count": 79,
   "metadata": {},
   "outputs": [
    {
     "name": "stdout",
     "output_type": "stream",
     "text": [
      "LASSO CV Training R-Squared: 0.5679870827043805\n",
      "LASSO CV Testing R-Squared: 0.5742360677779925\n"
     ]
    }
   ],
   "source": [
    "print(f\"LASSO CV Training R-Squared: {lasso_cv.score(Z_train, y_train)}\")\n",
    "print(f\"LASSO CV Testing R-Squared: {lasso_cv.score(Z_test, y_test)}\")"
   ]
  },
  {
   "cell_type": "markdown",
   "metadata": {},
   "source": [
    "### Model-5: Random Forest"
   ]
  },
  {
   "cell_type": "code",
   "execution_count": 104,
   "metadata": {},
   "outputs": [
    {
     "data": {
      "text/plain": [
       "RandomForestRegressor(n_estimators=3, random_state=0)"
      ]
     },
     "execution_count": 104,
     "metadata": {},
     "output_type": "execute_result"
    }
   ],
   "source": [
    "# Fitting Random Forest Regression to the dataset\n",
    "from sklearn.ensemble import RandomForestRegressor\n",
    "regressorRF = RandomForestRegressor(n_estimators = 3, random_state = 0)\n",
    "regressorRF.fit(Z_train, y_train)"
   ]
  },
  {
   "cell_type": "code",
   "execution_count": 105,
   "metadata": {},
   "outputs": [
    {
     "name": "stdout",
     "output_type": "stream",
     "text": [
      "RandomForestRegressor Training R-Squared: 0.9425844870747669\n",
      "RandomForestRegressor Testing R-Squared: 0.7892814313300834\n"
     ]
    }
   ],
   "source": [
    "# Evaluate model using R2.\n",
    "print(f\"RandomForestRegressor Training R-Squared: {regressorRF.score(Z_train, y_train)}\")\n",
    "print(f\"RandomForestRegressor Testing R-Squared: {regressorRF.score(Z_test, y_test)}\")"
   ]
  },
  {
   "cell_type": "markdown",
   "metadata": {},
   "source": [
    "### Model-6: Support Vector Machine"
   ]
  },
  {
   "cell_type": "markdown",
   "metadata": {},
   "source": [
    "most important SVR parameter is Kernel type. It can be \n",
    "linear,polynomial or gaussian SVR. We have a non-linear condition \n",
    "so we can select polynomial or gaussian but here we select RBF(a gaussian type) kernel."
   ]
  },
  {
   "cell_type": "code",
   "execution_count": 82,
   "metadata": {},
   "outputs": [
    {
     "data": {
      "text/plain": [
       "SVR(C=4, epsilon=0.2, gamma=0.2)"
      ]
     },
     "execution_count": 82,
     "metadata": {},
     "output_type": "execute_result"
    }
   ],
   "source": [
    "from sklearn.svm import SVR\n",
    "regressorsvr = SVR(kernel = 'rbf', C=4, gamma=0.2, epsilon=.2)\n",
    "regressorsvr.fit(Z_train, y_train)"
   ]
  },
  {
   "cell_type": "code",
   "execution_count": 83,
   "metadata": {},
   "outputs": [
    {
     "name": "stdout",
     "output_type": "stream",
     "text": [
      "SVR Training R-Squared: 0.9527584999604497\n",
      "SVR Testing R-Squared: 0.7864639270088775\n"
     ]
    }
   ],
   "source": [
    "# Evaluate model using R2.\n",
    "print(f\"SVR Training R-Squared: {regressorsvr.score(Z_train, y_train)}\")\n",
    "print(f\"SVR Testing R-Squared: {regressorsvr.score(Z_test, y_test)}\")"
   ]
  },
  {
   "cell_type": "markdown",
   "metadata": {},
   "source": [
    "my model is overfit on training dataset==High variance. Usually, high training score and low test score is over-fitting. Very low training score and low test score is under-fitting.\n",
    "\n",
    "A clear sign of machine learning overfitting is if its error on the testing or validation dataset is much greater than the error on training dataset. opposite is underfitting.\n",
    "overfiting can be solved with any regularization method and bias vs variance trade-off.\n"
   ]
  },
  {
   "cell_type": "markdown",
   "metadata": {},
   "source": [
    "## Part-4: Model work for testing"
   ]
  },
  {
   "cell_type": "code",
   "execution_count": 84,
   "metadata": {},
   "outputs": [],
   "source": [
    "#store model\n",
    "import pickle\n",
    "with open('final_model.pkl','wb') as f:\n",
    "    pickle.dump(regressorRF, f)"
   ]
  },
  {
   "cell_type": "code",
   "execution_count": 85,
   "metadata": {},
   "outputs": [],
   "source": [
    "#load trained model\n",
    "#functionality for preprocessing\n",
    "#from train import mm_2_inch\n",
    "\n",
    "def predict(inp):\n",
    "    #inp is going to be a dictionary instead of dataframe row\n",
    "    #process the inp dictionary i.e. convert mm to inch etc etc. \n",
    "    #any other pre-processing\n",
    "    #convert inp dictionary to input array/df row (X) lets call it inp_row\n",
    "    #pass it to model predict function eg. pred = clf.predit(inp_row)\n",
    "    #append it to inp dictionary, inp['predicted_cost'] = pred (maybe created a new dict, results={} and use that instead of inp)\n",
    "    #retun inp (modified) (or results dictionary if you want to create that instead of using inp)\n",
    "    pass"
   ]
  },
  {
   "cell_type": "code",
   "execution_count": 86,
   "metadata": {},
   "outputs": [],
   "source": [
    "#load the model\n",
    "with open('final_model.pkl','rb') as f:\n",
    "    clf = pickle.load(f)"
   ]
  },
  {
   "cell_type": "code",
   "execution_count": 87,
   "metadata": {},
   "outputs": [
    {
     "name": "stdout",
     "output_type": "stream",
     "text": [
      "RandomForest Testing R-Squared: 0.7892814313300834\n"
     ]
    }
   ],
   "source": [
    "print(f\"RandomForest Testing R-Squared: {clf.score(Z_test, y_test)}\")"
   ]
  },
  {
   "cell_type": "code",
   "execution_count": 88,
   "metadata": {},
   "outputs": [],
   "source": [
    "def predict(inp):\n",
    "    #inp is going to be a dictionary instead of dataframe row\n",
    "    #process the inp dictionary i.e. convert mm to inch etc etc. \n",
    "    #any other pre-processing\n",
    "    #convert inp dictionary to input array/df row (X) lets call it inp_row\n",
    "    #pass it to model predict function eg. pred = clf.predit(inp_row)\n",
    "    #append it to inp dictionary, inp['predicted_cost'] = pred (maybe created a new dict, results={} and use that instead of inp)\n",
    "    #retun inp (modified) (or results dictionary if you want to create that instead of using inp)\n",
    "    pass"
   ]
  },
  {
   "cell_type": "code",
   "execution_count": 89,
   "metadata": {},
   "outputs": [],
   "source": [
    "inp = {\n",
    "        \"material\": \"ABS - M30\",\n",
    "        \"quantity\": 2,\n",
    "        \"complexity_score\": 8.951051,\n",
    "        \"surface_area\": '{\"units\": \"in^2/\", \"value\": 30.86906387028813}',\n",
    "        \"bounding_box_volume\": '{\"units\": \"in^3/\", \"value\": 21.753358840942383}',\n",
    "        \"volume\": '{\"units\": \"in^3/\", \"value\": 2.392122115044577}',\n",
    "        \"max_x_length\": '{\"units\": \"in\", \"value\": 7.431044101715088}',\n",
    "        \"max_y_length\": '{\"units\": \"in\", \"value\": 2.342428207397461}',\n",
    "        \"max_z_length\": '{\"units\": \"in\", \"value\": 1.2497128248214722}',\n",
    "        \"optimal_fit_on_hp_build_plate\": 1046,\n",
    "    }"
   ]
  },
  {
   "cell_type": "code",
   "execution_count": 90,
   "metadata": {},
   "outputs": [],
   "source": [
    "inp['surface_area'] = mm_inc2(inp['surface_area'])"
   ]
  },
  {
   "cell_type": "code",
   "execution_count": 91,
   "metadata": {},
   "outputs": [],
   "source": [
    "inp['bounding_box_volume'] = mm_inc3(inp['bounding_box_volume'])"
   ]
  },
  {
   "cell_type": "code",
   "execution_count": 92,
   "metadata": {},
   "outputs": [],
   "source": [
    "inp['volume'] = mm_inc3(inp['volume'])"
   ]
  },
  {
   "cell_type": "code",
   "execution_count": 93,
   "metadata": {},
   "outputs": [],
   "source": [
    "inp['max_x_length'] = mm_inc1(inp['max_x_length'])"
   ]
  },
  {
   "cell_type": "code",
   "execution_count": 94,
   "metadata": {},
   "outputs": [],
   "source": [
    "inp['max_y_length'] = mm_inc1(inp['max_y_length'])"
   ]
  },
  {
   "cell_type": "code",
   "execution_count": 95,
   "metadata": {},
   "outputs": [],
   "source": [
    "inp['max_z_length'] = mm_inc1(inp['max_z_length'])"
   ]
  },
  {
   "cell_type": "code",
   "execution_count": 96,
   "metadata": {},
   "outputs": [
    {
     "data": {
      "text/plain": [
       "{'material': 'ABS - M30',\n",
       " 'quantity': 2,\n",
       " 'complexity_score': 8.951051,\n",
       " 'surface_area': 30.86906387028813,\n",
       " 'bounding_box_volume': 21.753358840942383,\n",
       " 'volume': 2.392122115044577,\n",
       " 'max_x_length': 7.431044101715088,\n",
       " 'max_y_length': 2.342428207397461,\n",
       " 'max_z_length': 1.2497128248214722,\n",
       " 'optimal_fit_on_hp_build_plate': 1046}"
      ]
     },
     "execution_count": 96,
     "metadata": {},
     "output_type": "execute_result"
    }
   ],
   "source": [
    "inp"
   ]
  },
  {
   "cell_type": "code",
   "execution_count": 97,
   "metadata": {},
   "outputs": [],
   "source": [
    "inp_array = np.asarray(list(inp.values())[1:])"
   ]
  },
  {
   "cell_type": "code",
   "execution_count": 98,
   "metadata": {},
   "outputs": [
    {
     "name": "stderr",
     "output_type": "stream",
     "text": [
      "<ipython-input-98-af81007fb1b9>:1: RuntimeWarning: invalid value encountered in log\n",
      "  np.log(Z_test[0])\n"
     ]
    },
    {
     "data": {
      "text/plain": [
       "array([        nan, -2.69232652, -0.86873638, -0.54361377, -0.36891174,\n",
       "       -0.30374245,         nan, -0.1002429 ,         nan,         nan,\n",
       "               nan,         nan,         nan,         nan,         nan,\n",
       "               nan,         nan,         nan,         nan, -0.95929239,\n",
       "       -0.61880949, -0.4116213 , -0.40257955,         nan, -0.16325284,\n",
       "               nan, -2.13912122, -1.80984147, -1.61863631, -1.23431467,\n",
       "               nan, -0.89783719,         nan, -1.80789239, -1.73066336,\n",
       "       -1.17923296,         nan, -1.00804677,         nan, -1.92042808,\n",
       "       -1.13883816,         nan, -1.05923772,         nan, -1.01916054,\n",
       "               nan, -0.4508102 ,         nan,         nan,         nan,\n",
       "               nan, -0.82398376,         nan,         nan])"
      ]
     },
     "execution_count": 98,
     "metadata": {},
     "output_type": "execute_result"
    }
   ],
   "source": [
    "np.log(Z_test[0])"
   ]
  },
  {
   "cell_type": "code",
   "execution_count": 99,
   "metadata": {},
   "outputs": [],
   "source": [
    "score = clf.predict(Z_test[0].reshape([1, -1]))"
   ]
  },
  {
   "cell_type": "code",
   "execution_count": 100,
   "metadata": {},
   "outputs": [],
   "source": [
    "#append it to inp dictionary, inp['predicted_cost'] = pred (maybe created a new dict, results={} and use that instead of inp)\n",
    "inp['predicted_cost'] = score"
   ]
  },
  {
   "cell_type": "code",
   "execution_count": 101,
   "metadata": {},
   "outputs": [
    {
     "data": {
      "text/plain": [
       "{'material': 'ABS - M30',\n",
       " 'quantity': 2,\n",
       " 'complexity_score': 8.951051,\n",
       " 'surface_area': 30.86906387028813,\n",
       " 'bounding_box_volume': 21.753358840942383,\n",
       " 'volume': 2.392122115044577,\n",
       " 'max_x_length': 7.431044101715088,\n",
       " 'max_y_length': 2.342428207397461,\n",
       " 'max_z_length': 1.2497128248214722,\n",
       " 'optimal_fit_on_hp_build_plate': 1046,\n",
       " 'predicted_cost': array([7.10323522])}"
      ]
     },
     "execution_count": 101,
     "metadata": {},
     "output_type": "execute_result"
    }
   ],
   "source": [
    "inp"
   ]
  },
  {
   "cell_type": "markdown",
   "metadata": {},
   "source": [
    "predicted_cost by using polynomial regression is around 4 and random forest regression is around 7"
   ]
  },
  {
   "cell_type": "code",
   "execution_count": null,
   "metadata": {},
   "outputs": [],
   "source": []
  }
 ],
 "metadata": {
  "kernelspec": {
   "display_name": "Python 3",
   "language": "python",
   "name": "python3"
  },
  "language_info": {
   "codemirror_mode": {
    "name": "ipython",
    "version": 3
   },
   "file_extension": ".py",
   "mimetype": "text/x-python",
   "name": "python",
   "nbconvert_exporter": "python",
   "pygments_lexer": "ipython3",
   "version": "3.8.5"
  }
 },
 "nbformat": 4,
 "nbformat_minor": 4
}
